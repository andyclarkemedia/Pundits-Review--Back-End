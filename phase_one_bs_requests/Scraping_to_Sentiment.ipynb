{
 "cells": [
  {
   "cell_type": "markdown",
   "metadata": {},
   "source": [
    "# Scraping to Sentiment"
   ]
  },
  {
   "cell_type": "markdown",
   "metadata": {},
   "source": [
    "> The aim of this notebook is to demonstrate how match reports can be converted to a database record that stores information about the sentiment of football players written about in that report."
   ]
  },
  {
   "cell_type": "markdown",
   "metadata": {},
   "source": [
    "### Steps Involved"
   ]
  },
  {
   "cell_type": "markdown",
   "metadata": {},
   "source": [
    "> 1. Collect links from landing URL\n",
    "2. Get HTML from all match report links\n",
    "2. Convert HTML to clean text\n",
    "3. Remove Stopwords / Lemmatize \n",
    "4. Tokenize the sentence\n",
    "5. Predict sentiment at sentence level\n",
    "6. Identify subject of sentence\n",
    "7. Identify other tags\n",
    "8. Store record if there is a match with player names\n",
    "9. Convert records into sentiment score\n",
    "10. Store sentiment scores\n",
    "11. Allow user to search for sentiment scores"
   ]
  },
  {
   "cell_type": "markdown",
   "metadata": {},
   "source": [
    "### Notes"
   ]
  },
  {
   "cell_type": "markdown",
   "metadata": {},
   "source": [
    "> - Removing Stopwords & lemmatizing _was_ unproductive and result in skewed results: Code is still in the notebook but unused\n",
    "- In future, aspect level sentiment analysis should be better than sentence level analysis"
   ]
  },
  {
   "cell_type": "markdown",
   "metadata": {},
   "source": [
    "### Modules Used"
   ]
  },
  {
   "cell_type": "markdown",
   "metadata": {},
   "source": [
    "> - requests\n",
    "- BeautifulSoup\n",
    "- time\n",
    "- re\n",
    "- NLTK\n",
    "- stopwords (custom module - available in zip folder)\n",
    "- pickle\n",
    "- fullplayernames (custom module - available in zip folder)\n",
    "- spacy\n",
    "- pandas"
   ]
  },
  {
   "cell_type": "markdown",
   "metadata": {},
   "source": [
    "-----"
   ]
  },
  {
   "cell_type": "markdown",
   "metadata": {},
   "source": [
    "## Step 1 - Collect Links from landing URL"
   ]
  },
  {
   "cell_type": "markdown",
   "metadata": {},
   "source": [
    "> Collecting all match reports from page one of the Mirror match reports site\n",
    "- https://www.mirror.co.uk/sport/football/match-reports/"
   ]
  },
  {
   "cell_type": "code",
   "execution_count": 67,
   "metadata": {},
   "outputs": [],
   "source": [
    "# Declare the landing URL\n",
    "url = \"https://www.mirror.co.uk/sport/football/match-reports/\""
   ]
  },
  {
   "cell_type": "code",
   "execution_count": 68,
   "metadata": {},
   "outputs": [],
   "source": [
    "# Import Requests\n",
    "import requests"
   ]
  },
  {
   "cell_type": "code",
   "execution_count": 69,
   "metadata": {},
   "outputs": [],
   "source": [
    "# Declare Headers - Will need to change for other users\n",
    "\n",
    "the_headers = {\"User-Agent\": \"Mozilla/5.0 (Macintosh; Intel Mac OS X 10_14_6) AppleWebKit/537.36 (KHTML, like Gecko) Chrome/78.0.3904.97 Safari/537.36; Andy Clarke/clarkeaj3@cardiff.ac.uk\"}\n",
    "\n"
   ]
  },
  {
   "cell_type": "markdown",
   "metadata": {},
   "source": [
    "#### Make the landing page request "
   ]
  },
  {
   "cell_type": "code",
   "execution_count": 70,
   "metadata": {},
   "outputs": [],
   "source": [
    "landing_page = requests.get(url, headers=the_headers, timeout=5)"
   ]
  },
  {
   "cell_type": "code",
   "execution_count": 71,
   "metadata": {},
   "outputs": [
    {
     "data": {
      "text/plain": [
       "200"
      ]
     },
     "execution_count": 71,
     "metadata": {},
     "output_type": "execute_result"
    }
   ],
   "source": [
    "landing_page.status_code"
   ]
  },
  {
   "cell_type": "markdown",
   "metadata": {},
   "source": [
    "#### Make Beautiful Soup object from landing page"
   ]
  },
  {
   "cell_type": "code",
   "execution_count": 72,
   "metadata": {},
   "outputs": [],
   "source": [
    "# Import Beautiful Soup \n",
    "from bs4 import BeautifulSoup"
   ]
  },
  {
   "cell_type": "code",
   "execution_count": 73,
   "metadata": {},
   "outputs": [],
   "source": [
    "# Make BS Object\n",
    "soup = BeautifulSoup(landing_page.text, 'html.parser')"
   ]
  },
  {
   "cell_type": "markdown",
   "metadata": {},
   "source": [
    "#### Find all headline links from landing page"
   ]
  },
  {
   "cell_type": "code",
   "execution_count": 81,
   "metadata": {},
   "outputs": [],
   "source": [
    "# Declare list of links\n",
    "links = []"
   ]
  },
  {
   "cell_type": "markdown",
   "metadata": {},
   "source": [
    "#### Loop through < a > elements with class of headline and add href to list"
   ]
  },
  {
   "cell_type": "markdown",
   "metadata": {},
   "source": [
    "> Note: This is specific to match reports from the mirror and is unlikely to be the same for other sources"
   ]
  },
  {
   "cell_type": "code",
   "execution_count": 82,
   "metadata": {},
   "outputs": [],
   "source": [
    "for a in soup.find_all('a', {'class': 'headline'}):\n",
    "    if \"match-reports\" in str(a['href']):\n",
    "        links.append(a['href'])"
   ]
  },
  {
   "cell_type": "markdown",
   "metadata": {},
   "source": [
    "-----"
   ]
  },
  {
   "cell_type": "markdown",
   "metadata": {},
   "source": [
    "## Step 2 - Get HTML from all links"
   ]
  },
  {
   "cell_type": "markdown",
   "metadata": {},
   "source": [
    "#### Note: \n",
    "> - Loop will send one request to retrieve each link in list: \n",
    "- Timer applied so that request each new request sent after 5 seconds\n",
    "- Will take approx 2 mins to collect hmtl from all links"
   ]
  },
  {
   "cell_type": "code",
   "execution_count": 92,
   "metadata": {},
   "outputs": [],
   "source": [
    "from time import sleep"
   ]
  },
  {
   "cell_type": "code",
   "execution_count": 103,
   "metadata": {},
   "outputs": [],
   "source": [
    "# Declare list of html & counter\n",
    "link_html = []\n",
    "link_counter = 1"
   ]
  },
  {
   "cell_type": "markdown",
   "metadata": {},
   "source": [
    "#### Loop through links and store HTML - _2 Mins!!_\n",
    "> There are 24 links to retrieve"
   ]
  },
  {
   "cell_type": "code",
   "execution_count": 104,
   "metadata": {},
   "outputs": [
    {
     "name": "stdout",
     "output_type": "stream",
     "text": [
      "Link number 1 complete\n",
      "Link number 2 complete\n",
      "Link number 3 complete\n",
      "Link number 4 complete\n",
      "Link number 5 complete\n",
      "Link number 6 complete\n",
      "Link number 7 complete\n",
      "Link number 8 complete\n",
      "Link number 9 complete\n",
      "Link number 10 complete\n",
      "Link number 11 complete\n",
      "Link number 12 complete\n",
      "Link number 13 complete\n",
      "Link number 14 complete\n",
      "Link number 15 complete\n",
      "Link number 16 complete\n",
      "Link number 17 complete\n",
      "Link number 18 complete\n",
      "Link number 19 complete\n",
      "Link number 20 complete\n",
      "Link number 21 complete\n",
      "Link number 22 complete\n",
      "Link number 23 complete\n",
      "Link number 24 complete\n"
     ]
    }
   ],
   "source": [
    "for link in links:\n",
    "    \n",
    "    # Make the request\n",
    "    page = requests.get(link, headers=the_headers, timeout=5)\n",
    "    \n",
    "    # Check Status Code before continuing \n",
    "    if page.status_code == 200:\n",
    "        \n",
    "        # Make soup object from response and append to list\n",
    "        link_html.append(BeautifulSoup(page.text, 'html.parser'))\n",
    "        \n",
    "    # If status code doesn't look good - stop the loop!\n",
    "    else: \n",
    "        print(\"Error: \" + str(page.status_code))\n",
    "        break\n",
    "        \n",
    "    # Sleep for 5 secs before making the next request\n",
    "    print(\"Link number \" + str(link_counter) + \" complete\")\n",
    "    link_counter += 1\n",
    "    sleep(5) "
   ]
  },
  {
   "cell_type": "markdown",
   "metadata": {},
   "source": [
    "-----"
   ]
  },
  {
   "cell_type": "markdown",
   "metadata": {},
   "source": [
    "## Step 2 - Convert HTML to Clean Text"
   ]
  },
  {
   "cell_type": "markdown",
   "metadata": {},
   "source": [
    "#### Define function to clean HTML"
   ]
  },
  {
   "cell_type": "markdown",
   "metadata": {},
   "source": [
    "> Function will: \n",
    "- Remove tag characters \"<...>\"\n",
    "- Remove links\n",
    "- Return a string"
   ]
  },
  {
   "cell_type": "code",
   "execution_count": 1361,
   "metadata": {},
   "outputs": [],
   "source": [
    "# Import Regular Expressions\n",
    "import re"
   ]
  },
  {
   "cell_type": "code",
   "execution_count": 1362,
   "metadata": {},
   "outputs": [],
   "source": [
    "def clean_text(input):\n",
    "    result = re.sub(\"<(.*?)((?!\\bterm\\b).)>\",\"\", str(input))\n",
    "    result = re.sub(\"&amp;apos\",\"'\", result)\n",
    "    result = re.sub(\"\\.,\",\".\", result)\n",
    "    result = result[1:-1]\n",
    "    return result"
   ]
  },
  {
   "cell_type": "markdown",
   "metadata": {},
   "source": [
    "#### Find < p > elements and clean the text"
   ]
  },
  {
   "cell_type": "markdown",
   "metadata": {},
   "source": [
    "> Note: This is specific to match reports from the mirror and is unlikely to be the same for other sources"
   ]
  },
  {
   "cell_type": "code",
   "execution_count": 1363,
   "metadata": {},
   "outputs": [],
   "source": [
    "# Declare clean text list\n",
    "clean_text_list = []"
   ]
  },
  {
   "cell_type": "code",
   "execution_count": 1364,
   "metadata": {},
   "outputs": [],
   "source": [
    "# Loop through HTML pages - Find p elements and clean text before appending to list\n",
    "for page in link_html:\n",
    "    p_elements = str(page.find_all('p'))\n",
    "    clean_text_list.append(clean_text(p_elements))"
   ]
  },
  {
   "cell_type": "markdown",
   "metadata": {},
   "source": [
    "-----"
   ]
  },
  {
   "cell_type": "markdown",
   "metadata": {},
   "source": [
    "## Step 3 - Remove Stopwords and Lemmatize"
   ]
  },
  {
   "cell_type": "markdown",
   "metadata": {},
   "source": [
    "> This step will run a loop to further prepare the text for analysis\n",
    ">> Steps involved:\n",
    "- Removing stopwords\n",
    "- Lemmatizing words\n",
    "- Replenishing the place of punctuation in the text"
   ]
  },
  {
   "cell_type": "markdown",
   "metadata": {},
   "source": [
    "> _Note_: This step might be unproductive \n",
    "- If that is the case - comment out the code below"
   ]
  },
  {
   "cell_type": "markdown",
   "metadata": {},
   "source": [
    "#### Imports to remove stopwords"
   ]
  },
  {
   "cell_type": "code",
   "execution_count": 1365,
   "metadata": {},
   "outputs": [],
   "source": [
    "from nltk.tokenize import word_tokenize\n",
    "from nltk.stem import WordNetLemmatizer\n",
    "# Import customised list of stopwords\n",
    "import stopwords"
   ]
  },
  {
   "cell_type": "markdown",
   "metadata": {},
   "source": [
    "#### Function to put '.' & ',' back in place"
   ]
  },
  {
   "cell_type": "code",
   "execution_count": 1366,
   "metadata": {},
   "outputs": [],
   "source": [
    "# Function to replenish full stops and commas\n",
    "def punctuation_replenish(input):\n",
    "    r = re.sub(\" \\.\",\". \", str(input))\n",
    "    r = re.sub(\" ,\",\", \", str(r))\n",
    "    return r"
   ]
  },
  {
   "cell_type": "markdown",
   "metadata": {},
   "source": [
    "#### Declare new list to hold results & perform loop"
   ]
  },
  {
   "cell_type": "code",
   "execution_count": 1367,
   "metadata": {},
   "outputs": [],
   "source": [
    "lemmatized_results = []"
   ]
  },
  {
   "cell_type": "code",
   "execution_count": 1368,
   "metadata": {},
   "outputs": [],
   "source": [
    "# Loop through result text - remove stopwords - lemmatize and replenish punctuation\n",
    "for article in clean_text_list:\n",
    "    lemmatized_result = \" \".join([WordNetLemmatizer().lemmatize(word) for word in word_tokenize(article) if word not in stopwords.stopwords()])\n",
    "    lemmatized_results.append(punctuation_replenish(lemmatized_result))"
   ]
  },
  {
   "cell_type": "markdown",
   "metadata": {},
   "source": [
    "-----"
   ]
  },
  {
   "cell_type": "markdown",
   "metadata": {},
   "source": [
    "### Step 4 - Sentence Tokenize"
   ]
  },
  {
   "cell_type": "markdown",
   "metadata": {},
   "source": [
    "> Split the sentences in the text\n",
    "- Remove commas from beginning of lines"
   ]
  },
  {
   "cell_type": "markdown",
   "metadata": {},
   "source": [
    "#### Function to remove commas from sentences"
   ]
  },
  {
   "cell_type": "code",
   "execution_count": 1369,
   "metadata": {},
   "outputs": [],
   "source": [
    "# Function to remove commas from sentences\n",
    "def remove_commas(sentences):\n",
    "    new_sentence_list = []\n",
    "    for sentence in sentences:\n",
    "        if sentence[0] == \",\":\n",
    "            new_sentence_list.append(sentence[2:])\n",
    "        else: \n",
    "            new_sentence_list.append(sentence)\n",
    "    \n",
    "    return new_sentence_list"
   ]
  },
  {
   "cell_type": "markdown",
   "metadata": {},
   "source": [
    "#### Create tokens from lemmatized results"
   ]
  },
  {
   "cell_type": "code",
   "execution_count": 1370,
   "metadata": {},
   "outputs": [],
   "source": [
    "from nltk.tokenize import sent_tokenize"
   ]
  },
  {
   "cell_type": "code",
   "execution_count": 1371,
   "metadata": {},
   "outputs": [],
   "source": [
    "# Declare list to hold lemmatized tokens\n",
    "lemmatized_tokens = []"
   ]
  },
  {
   "cell_type": "code",
   "execution_count": 1372,
   "metadata": {},
   "outputs": [],
   "source": [
    "# Loop through lemmatized sentences, tokenize and remove commas\n",
    "for article in lemmatized_results:\n",
    "    sentences = sent_tokenize(article)\n",
    "    lemmatized_tokens.append(remove_commas(sentences))"
   ]
  },
  {
   "cell_type": "markdown",
   "metadata": {},
   "source": [
    "#### Create tokens from original sentences"
   ]
  },
  {
   "cell_type": "code",
   "execution_count": 1373,
   "metadata": {},
   "outputs": [],
   "source": [
    "# Declare list to hold original sentences\n",
    "original_sentences = []"
   ]
  },
  {
   "cell_type": "code",
   "execution_count": 1374,
   "metadata": {},
   "outputs": [],
   "source": [
    "# Loop through lemmatized sentences, tokenize and remove commas\n",
    "for article in clean_text_list:\n",
    "    sentences = sent_tokenize(article)\n",
    "    original_sentences.append(remove_commas(sentences))"
   ]
  },
  {
   "cell_type": "markdown",
   "metadata": {},
   "source": [
    "-----"
   ]
  },
  {
   "cell_type": "markdown",
   "metadata": {},
   "source": [
    "### Step 5 - Predict Sentiment"
   ]
  },
  {
   "cell_type": "markdown",
   "metadata": {},
   "source": [
    "> _Note_: \n",
    "- At this stage the text will be put into a dataframe so that it can be associated with it's sentiment\n",
    "- Uses Original Sentences to predict sentiment rather than lemmatized tokens as this produced better results"
   ]
  },
  {
   "cell_type": "markdown",
   "metadata": {},
   "source": [
    "#### Import Trained Classifier"
   ]
  },
  {
   "cell_type": "markdown",
   "metadata": {},
   "source": [
    "> The trained classifier is unpickled and imported here\n"
   ]
  },
  {
   "cell_type": "code",
   "execution_count": 1375,
   "metadata": {},
   "outputs": [],
   "source": [
    "import pickle"
   ]
  },
  {
   "cell_type": "code",
   "execution_count": 1376,
   "metadata": {},
   "outputs": [],
   "source": [
    "# Specify Filename\n",
    "filename = \"sentiment_model.sav\""
   ]
  },
  {
   "cell_type": "code",
   "execution_count": 1377,
   "metadata": {},
   "outputs": [],
   "source": [
    "# Read in model\n",
    "infile = open(filename,'rb')"
   ]
  },
  {
   "cell_type": "code",
   "execution_count": 1378,
   "metadata": {},
   "outputs": [],
   "source": [
    "# Save instance of model\n",
    "model = pickle.load(infile)"
   ]
  },
  {
   "cell_type": "code",
   "execution_count": 1379,
   "metadata": {},
   "outputs": [],
   "source": [
    "# Close file\n",
    "infile.close()"
   ]
  },
  {
   "cell_type": "markdown",
   "metadata": {},
   "source": [
    "#### Vectorize input text "
   ]
  },
  {
   "cell_type": "markdown",
   "metadata": {},
   "source": [
    "> ##### Represents the article's text as a bag of words\n",
    ">> Features of my vectoriser are the same as were used to train the model\n",
    "> - Ngram Range = (1,3)\n",
    "> - CountVectoriser prefered over TfIdf Vectorizer"
   ]
  },
  {
   "cell_type": "markdown",
   "metadata": {},
   "source": [
    "#### Import Vectorizer"
   ]
  },
  {
   "cell_type": "code",
   "execution_count": 1380,
   "metadata": {},
   "outputs": [],
   "source": [
    "# Specify Filename\n",
    "filename_vect = \"vectorizer.sav\""
   ]
  },
  {
   "cell_type": "code",
   "execution_count": 1381,
   "metadata": {},
   "outputs": [],
   "source": [
    "# Read in vectorizer\n",
    "infile_vect = open(filename_vect,'rb')"
   ]
  },
  {
   "cell_type": "code",
   "execution_count": 1382,
   "metadata": {},
   "outputs": [],
   "source": [
    "# Save instance of vectorizer\n",
    "vect = pickle.load(infile_vect)"
   ]
  },
  {
   "cell_type": "code",
   "execution_count": 1383,
   "metadata": {},
   "outputs": [],
   "source": [
    "# Close file\n",
    "infile_vect.close()"
   ]
  },
  {
   "cell_type": "markdown",
   "metadata": {},
   "source": [
    "#### Import dictionary of players and teams "
   ]
  },
  {
   "cell_type": "code",
   "execution_count": 1384,
   "metadata": {},
   "outputs": [],
   "source": [
    "import fullplayernames"
   ]
  },
  {
   "cell_type": "code",
   "execution_count": 1385,
   "metadata": {},
   "outputs": [],
   "source": [
    "players = fullplayernames.player_names"
   ]
  },
  {
   "cell_type": "code",
   "execution_count": 1386,
   "metadata": {},
   "outputs": [],
   "source": [
    "# Declare list of teams\n",
    "teams = list(players.keys())"
   ]
  },
  {
   "cell_type": "markdown",
   "metadata": {},
   "source": [
    "#### Function to determine teams playing in a match from first line of article"
   ]
  },
  {
   "cell_type": "code",
   "execution_count": 1387,
   "metadata": {},
   "outputs": [],
   "source": [
    "def match_identifier(string):\n",
    "    \n",
    "    # Define match list\n",
    "    match = []\n",
    "    \n",
    "    # Iterate through teams\n",
    "    for team in teams:\n",
    "        # Iterate through sentence and pick out words that match with an item in list of teams\n",
    "        for word in word_tokenize(string):\n",
    "            if len(word) > 3 and word in team:\n",
    "                match.append(team)\n",
    "        \n",
    "    \n",
    "    return str(list(dict.fromkeys(match)))"
   ]
  },
  {
   "cell_type": "markdown",
   "metadata": {},
   "source": [
    "#### Function to make the prediction"
   ]
  },
  {
   "cell_type": "code",
   "execution_count": 1388,
   "metadata": {},
   "outputs": [],
   "source": [
    "import pandas as pd\n",
    "pd.set_option('display.max_colwidth', -1)\n",
    "pd.set_option('display.max_rows', None)"
   ]
  },
  {
   "cell_type": "markdown",
   "metadata": {},
   "source": [
    "> #### Function will:\n",
    "- Vectorize the sentences\n",
    "- Apply sentiment function to sentences\n",
    "- Loops through list of sentences and makes an individual dataframe for each of the articles\n",
    "- Will add original sentences to dataframe alongside sentiment prediction\n",
    "- Will identify what teams are involved in each match\n",
    "- Return list of dataframes"
   ]
  },
  {
   "cell_type": "code",
   "execution_count": 1389,
   "metadata": {},
   "outputs": [],
   "source": [
    "def sentiment_dataframe():\n",
    "    \n",
    "    # Declare list to store all dataframes\n",
    "    df_list = []\n",
    "    \n",
    "    for index, list_of_sentences in enumerate(original_sentences):\n",
    "    \n",
    "        # Predictions - Vectorise the sentences and make a sentiment prediction\n",
    "        predictions = pd.DataFrame(model.predict(vect.transform(list_of_sentences)))\n",
    "\n",
    "        # Rename sentiment cols\n",
    "        predictions = predictions.rename(columns={0: \"sentiment\"})\n",
    "\n",
    "        # Add original sentences\n",
    "        predictions['sentences'] = original_sentences[index]\n",
    "        \n",
    "        # Add match information based on teams in first or second row \n",
    "        first_sentence = predictions.iloc[0]['sentences'] + predictions.iloc[1]['sentences']\n",
    "        \n",
    "        match = match_identifier(first_sentence)\n",
    "        \n",
    "        # Add matches to df \n",
    "        predictions['match'] = match\n",
    "        \n",
    "        # Append to df_list\n",
    "        df_list.append(predictions)\n",
    "    \n",
    "    return df_list"
   ]
  },
  {
   "cell_type": "markdown",
   "metadata": {},
   "source": [
    "#### Concatenate list of dataframes"
   ]
  },
  {
   "cell_type": "code",
   "execution_count": 1390,
   "metadata": {},
   "outputs": [],
   "source": [
    "df = pd.concat(sentiment_dataframe())"
   ]
  },
  {
   "cell_type": "markdown",
   "metadata": {},
   "source": [
    "------"
   ]
  },
  {
   "cell_type": "markdown",
   "metadata": {},
   "source": [
    "### Step 6 - Identify Sentence Subjects"
   ]
  },
  {
   "cell_type": "markdown",
   "metadata": {},
   "source": [
    "> Spacy provides a way to identify the subject of the sentence based on it's relationship to words around it\n",
    "  . This will need to become much more sophisticated in order to recognise more detailed information about the sentence and the sentiment contained within it\n",
    "  - _Note_: \n",
    "      - Find a way to perform aspect based sentiment analysis\n",
    "      - Improve Information extraction \n",
    "  \n",
    "> #### Advantages:\n",
    " - Simple\n",
    " - Effective \n",
    " - Liteweight \n",
    " \n",
    " > #### Disdvantages:\n",
    " - Not 100% accurate\n",
    " - Struggles to identify two sentence subjects (\"Him and her ... \")"
   ]
  },
  {
   "cell_type": "code",
   "execution_count": 1391,
   "metadata": {},
   "outputs": [],
   "source": [
    "import spacy"
   ]
  },
  {
   "cell_type": "code",
   "execution_count": 1392,
   "metadata": {},
   "outputs": [],
   "source": [
    "# Declare instance of spacy language processor\n",
    "nlp = spacy.load('en')"
   ]
  },
  {
   "cell_type": "markdown",
   "metadata": {},
   "source": [
    "#### Loop to create a list of sentence subjects\n",
    "\n",
    "> Loop will:\n",
    "- Find the subject of a sentence \n",
    "- Add that list to corresponding row in dataframe"
   ]
  },
  {
   "cell_type": "code",
   "execution_count": 1393,
   "metadata": {},
   "outputs": [],
   "source": [
    "# Create new row to store sentence subjects\n",
    "df['sentence_subjects'] = \"\""
   ]
  },
  {
   "cell_type": "code",
   "execution_count": 1394,
   "metadata": {},
   "outputs": [],
   "source": [
    "# Loop - Adding sentence subjects to dataframe row\n",
    "for index, row in df.iterrows():\n",
    "    document = nlp(row['sentences'])\n",
    "    row['sentence_subjects'] += str([tok for tok in document if (tok.dep_ == \"nsubj\")])"
   ]
  },
  {
   "cell_type": "markdown",
   "metadata": {},
   "source": [
    "-------\n"
   ]
  },
  {
   "cell_type": "markdown",
   "metadata": {},
   "source": [
    "### Step 7 - Identify Other Tags"
   ]
  },
  {
   "cell_type": "markdown",
   "metadata": {},
   "source": [
    "##### Note: _Consider changing to identifying just PLAYERS ..._"
   ]
  },
  {
   "cell_type": "markdown",
   "metadata": {},
   "source": [
    "#### Loop to identify all proper nouns in sentence \n",
    "> ##### Loop will\n",
    "- Find the proper nouns in a sentence \n",
    "- Add those proper nouns to corresponding row in df"
   ]
  },
  {
   "cell_type": "code",
   "execution_count": 1395,
   "metadata": {},
   "outputs": [],
   "source": [
    "# Create new row to store proper nouns\n",
    "df['proper_nouns'] = \"\""
   ]
  },
  {
   "cell_type": "code",
   "execution_count": 1396,
   "metadata": {},
   "outputs": [],
   "source": [
    "# Loop - Adding sentence subjects to dataframe row\n",
    "for index, row in df.iterrows():\n",
    "    document = nlp(row['sentences'])\n",
    "    row['proper_nouns'] += str([tok for tok in document if (tok.pos_ == \"PROPN\")])"
   ]
  },
  {
   "cell_type": "markdown",
   "metadata": {},
   "source": [
    "-----"
   ]
  },
  {
   "cell_type": "markdown",
   "metadata": {},
   "source": [
    "### Step 8 - Store Record if Match with Player Name "
   ]
  },
  {
   "cell_type": "markdown",
   "metadata": {},
   "source": [
    "#### Extract Target Players from Dataframe"
   ]
  },
  {
   "cell_type": "markdown",
   "metadata": {},
   "source": [
    "- _Note_: Should be possible to provide a much more sophisticated way of identifying target players"
   ]
  },
  {
   "cell_type": "markdown",
   "metadata": {},
   "source": [
    "#### Re-index the dataframe"
   ]
  },
  {
   "cell_type": "code",
   "execution_count": 1397,
   "metadata": {},
   "outputs": [],
   "source": [
    "df = df.reset_index(drop=True)"
   ]
  },
  {
   "cell_type": "markdown",
   "metadata": {},
   "source": [
    "#### Convert 'sentence_subjects' & 'proper_nouns', 'match' columns back to lists"
   ]
  },
  {
   "cell_type": "code",
   "execution_count": 1398,
   "metadata": {},
   "outputs": [],
   "source": [
    "def create_list(string):\n",
    "    \n",
    "    # Remove brackets\n",
    "    clean_string = string[1:-1]\n",
    "    \n",
    "    # Return Split string \n",
    "    return clean_string.split(\",\")"
   ]
  },
  {
   "cell_type": "markdown",
   "metadata": {},
   "source": [
    "#### Apply list function to columns "
   ]
  },
  {
   "cell_type": "code",
   "execution_count": 1399,
   "metadata": {},
   "outputs": [],
   "source": [
    "df['sentence_subjects'] = df['sentence_subjects'].apply(create_list)"
   ]
  },
  {
   "cell_type": "code",
   "execution_count": 1400,
   "metadata": {},
   "outputs": [],
   "source": [
    "df['proper_nouns'] = df['proper_nouns'].apply(create_list)"
   ]
  },
  {
   "cell_type": "code",
   "execution_count": 1401,
   "metadata": {},
   "outputs": [],
   "source": [
    "df['match'] = df['match'].apply(create_list)"
   ]
  },
  {
   "cell_type": "markdown",
   "metadata": {},
   "source": [
    "##### Create a new empty column"
   ]
  },
  {
   "cell_type": "code",
   "execution_count": 1402,
   "metadata": {},
   "outputs": [],
   "source": [
    "df['targets'] = \"\""
   ]
  },
  {
   "cell_type": "markdown",
   "metadata": {},
   "source": [
    "#### Function to create list of players based on match"
   ]
  },
  {
   "cell_type": "markdown",
   "metadata": {},
   "source": [
    "- Create a list of players belonging to both teams within the match "
   ]
  },
  {
   "cell_type": "code",
   "execution_count": 1403,
   "metadata": {},
   "outputs": [],
   "source": [
    "def create_players_list(row):\n",
    "    \n",
    "    # Players list \n",
    "    list_of_players = [] \n",
    "    \n",
    "    # Add players based on teams in a match\n",
    "    for team in row['match']:\n",
    "        clean = team.strip(\"'' \")\n",
    "        if clean != \"\":\n",
    "            list_of_players.append(players[clean])\n",
    "            \n",
    "            \n",
    "    # Join lists within list_of_players if length > 1\n",
    "    if len(list_of_players) == 2:\n",
    "        list_of_players = list_of_players[0] + list_of_players[1]\n",
    "    elif len(list_of_players) == 1:\n",
    "        list_of_players = list_of_players[0]\n",
    "        \n",
    "    return list_of_players"
   ]
  },
  {
   "cell_type": "markdown",
   "metadata": {},
   "source": [
    "### _Adding target players_"
   ]
  },
  {
   "cell_type": "markdown",
   "metadata": {},
   "source": [
    "#### Add Sentence Subjects"
   ]
  },
  {
   "cell_type": "markdown",
   "metadata": {},
   "source": [
    "##### Function to add sentence subjects\n",
    "> _Function will_:\n",
    "- Add a matching player to the targets column of the corresponding dataframe row"
   ]
  },
  {
   "cell_type": "code",
   "execution_count": 1404,
   "metadata": {},
   "outputs": [],
   "source": [
    "def sentence_subjects(row, list_of_players):\n",
    "        \n",
    "    # Sentence Subject List\n",
    "    subjects = []\n",
    "    \n",
    "    # Loop through sentence subjects and match with players\n",
    "    for item in row['sentence_subjects']:\n",
    "        for player in list_of_players:\n",
    "            if str(item) in player and str(item) != \"\" and str(item) not in stopwords.stopwords() and str(item) != \"he\" and str(item) != \"we\":\n",
    "                subjects.append(player)\n",
    "                \n",
    "    return subjects"
   ]
  },
  {
   "cell_type": "markdown",
   "metadata": {},
   "source": [
    "#### Loop through each row and apply the function"
   ]
  },
  {
   "cell_type": "code",
   "execution_count": 1405,
   "metadata": {},
   "outputs": [],
   "source": [
    "for index, row in df.iterrows():\n",
    "    players_list = create_players_list(row)\n",
    "    row['targets'] = str(sentence_subjects(row, players_list))[1:-1]"
   ]
  },
  {
   "cell_type": "markdown",
   "metadata": {},
   "source": [
    "#### If 'He' is the sentence subject then find player previously spoken about"
   ]
  },
  {
   "cell_type": "markdown",
   "metadata": {},
   "source": [
    "##### Function to add target based on mention of 'he', 'his'\n",
    "> _Function will_:\n",
    "- Check if 'he' or 'his' is sentence subject\n",
    "- Return the player this is referring to  "
   ]
  },
  {
   "cell_type": "code",
   "execution_count": 1406,
   "metadata": {},
   "outputs": [],
   "source": [
    "def previous_subject(row, index, list_of_players):\n",
    "    \n",
    "    # Previous players list \n",
    "    previous_players = []\n",
    "    \n",
    "    # Loop through sentence subjects - identify mentions of 'his', 'he' and find matching player\n",
    "    for item in row['sentence_subjects']:\n",
    "        if 'he' in item or 'He' in item or 'his' in item or 'His' in item:\n",
    "            if len(item) < 4:\n",
    "                for player in list_of_players:\n",
    "                    if df.iloc[index-1]['proper_nouns'][-1] in player and str(df.iloc[index-1]['proper_nouns'][-1]) != \"\":\n",
    "                        previous_players.append(player)\n",
    "                    elif len(df.iloc[index-1]['proper_nouns']) > 1:\n",
    "                        if df.iloc[index-1]['proper_nouns'][-2] in player and str(df.iloc[index-1]['proper_nouns'][-2]) != \"\":\n",
    "                            previous_players.append(player)\n",
    "    \n",
    "    return previous_players\n",
    "    "
   ]
  },
  {
   "cell_type": "markdown",
   "metadata": {},
   "source": [
    "#### Loop through each row and apply the function "
   ]
  },
  {
   "cell_type": "code",
   "execution_count": 1407,
   "metadata": {},
   "outputs": [],
   "source": [
    "for index, row in df.iterrows():\n",
    "    players_list = create_players_list(row)\n",
    "    row['targets'] += str(previous_subject(row, index, players_list))[1:-1]\n",
    "    "
   ]
  },
  {
   "cell_type": "markdown",
   "metadata": {},
   "source": [
    "#### If target still empty and player is only one spoken about in sentence - add target"
   ]
  },
  {
   "cell_type": "markdown",
   "metadata": {},
   "source": [
    "##### Function to add target based on mention of only one player as a proper noun\n",
    "> _Function will_:\n",
    "- Check if there is only one player mentioned as a proper noun \n",
    "- Return the player this is referring to  "
   ]
  },
  {
   "cell_type": "code",
   "execution_count": 1408,
   "metadata": {},
   "outputs": [],
   "source": [
    "def single_mention(row, list_of_players):\n",
    "    \n",
    "    # Single mention players list\n",
    "    mentioned_players = []\n",
    "    \n",
    "    if row['targets'] == \"\":\n",
    "        for player in list_of_players:\n",
    "            for word in row['proper_nouns']:\n",
    "                if word in player and word != \"\":\n",
    "                    mentioned_players.append(player)\n",
    "      \n",
    "    # Remove duplicate values & check for nested lists\n",
    "    if any(isinstance(i, list) for i in mentioned_players):\n",
    "        mentioned_players = mentioned_players[0]\n",
    "    \n",
    "    mentioned_players = list(dict.fromkeys(mentioned_players))\n",
    "   \n",
    "    # If there is only one mentioned player - return them\n",
    "    if len(mentioned_players) == 1:\n",
    "        return mentioned_players\n",
    "    else:\n",
    "        return \"\"\n",
    "\n",
    "    \n",
    "    "
   ]
  },
  {
   "cell_type": "markdown",
   "metadata": {},
   "source": [
    "#### Loop through each row and apply the function"
   ]
  },
  {
   "cell_type": "code",
   "execution_count": 1409,
   "metadata": {},
   "outputs": [],
   "source": [
    "for index, row in df.iterrows():\n",
    "    players_list = create_players_list(row)\n",
    "    row['targets'] += str(single_mention(row, players_list))[1:-1]"
   ]
  },
  {
   "cell_type": "markdown",
   "metadata": {},
   "source": [
    "#### View final records Dataframe"
   ]
  },
  {
   "cell_type": "code",
   "execution_count": 1411,
   "metadata": {},
   "outputs": [],
   "source": [
    "#df"
   ]
  },
  {
   "cell_type": "markdown",
   "metadata": {},
   "source": [
    "------"
   ]
  },
  {
   "cell_type": "markdown",
   "metadata": {},
   "source": [
    "### Step 9 - Convert Records to Sentiment Score"
   ]
  },
  {
   "cell_type": "markdown",
   "metadata": {},
   "source": [
    "#### Calculating the Sentiment Score"
   ]
  },
  {
   "cell_type": "markdown",
   "metadata": {},
   "source": [
    " - Should develop a more sophisticated way of deciding the sentiment score of a player"
   ]
  },
  {
   "cell_type": "markdown",
   "metadata": {},
   "source": [
    "> Variables currently available: \n",
    "- Number of positive reviews \n",
    "- Number of negative reviews\n",
    "- Number of neutral reviews \n",
    "- Total number of reviews "
   ]
  },
  {
   "cell_type": "markdown",
   "metadata": {},
   "source": [
    "> ##### Simple Method \n",
    "- Positive reviews as a % of total positive & negative reviews\n",
    "\n",
    "`N Positive Reviews / len(N positive reviews + N negative reviews)`"
   ]
  },
  {
   "cell_type": "markdown",
   "metadata": {},
   "source": [
    "#### Function to calculate a players sentiment score"
   ]
  },
  {
   "cell_type": "code",
   "execution_count": 1412,
   "metadata": {},
   "outputs": [],
   "source": [
    "def sentiment_score(player):\n",
    "    \n",
    "    # Declare player dictionary - to be used as row in dataframe\n",
    "    player_dictionary = {}\n",
    "    \n",
    "    # Begin positive and negative scores at 0\n",
    "    positive = 0\n",
    "    negative = 0\n",
    "    neutral = 0\n",
    "    \n",
    "    \n",
    "    # Loop through dataframe and total up positive | negative scores\n",
    "    for index, row in df.iterrows():\n",
    "        if player in row['targets']:\n",
    "            if row['sentiment'] == \"POSITIVE\":\n",
    "                positive += 1\n",
    "            elif row['sentiment'] == \"NEGATIVE\":\n",
    "                negative += 1\n",
    "            elif row['sentiment'] == \"NEUTRAL\":\n",
    "                neutral += 1\n",
    "    \n",
    "    # Calculate Player Score\n",
    "    player_score = 0\n",
    "    if (positive + negative) > 0:\n",
    "        player_score += positive / (positive + negative)\n",
    "    else: \n",
    "        player_score = positive\n",
    "    \n",
    "    # Make Dictionary Entries\n",
    "    player_dictionary['Name'] = player\n",
    "    player_dictionary['Score'] = player_score\n",
    "    player_dictionary['N_positive_reviews'] = positive\n",
    "    player_dictionary['N_negative_reviews'] = negative\n",
    "    player_dictionary['N_neutral_reviews'] = neutral\n",
    "    player_dictionary['Total_reviews'] = positive + negative + neutral\n",
    "    \n",
    "    \n",
    "    return player_dictionary"
   ]
  },
  {
   "cell_type": "markdown",
   "metadata": {},
   "source": [
    "#### Split target players into a list within the DF"
   ]
  },
  {
   "cell_type": "code",
   "execution_count": 1413,
   "metadata": {},
   "outputs": [],
   "source": [
    "# Function to be applied to all rows[target] in df\n",
    "def split_players(string):\n",
    "    \n",
    "    # Split the players\n",
    "    split = string.split(\"'\")\n",
    "    \n",
    "    # Final list\n",
    "    clean_list = []\n",
    "    \n",
    "    # Only return entries with alphabetic characters in \n",
    "    for entry in split:\n",
    "        if re.search(r'[a-zA-Z]+', entry):\n",
    "            clean_list.append(entry)\n",
    "            \n",
    "    # Remove duplicates on return \n",
    "    return list(dict.fromkeys(clean_list))"
   ]
  },
  {
   "cell_type": "code",
   "execution_count": 1414,
   "metadata": {},
   "outputs": [],
   "source": [
    "# Apply Function to targets column\n",
    "df['targets'] = df['targets'].apply(split_players)"
   ]
  },
  {
   "cell_type": "markdown",
   "metadata": {},
   "source": [
    "#### Make a list of all unique target players"
   ]
  },
  {
   "cell_type": "code",
   "execution_count": 1415,
   "metadata": {},
   "outputs": [],
   "source": [
    "target_players = []"
   ]
  },
  {
   "cell_type": "code",
   "execution_count": 1416,
   "metadata": {},
   "outputs": [],
   "source": [
    "for index, row in df.iterrows():\n",
    "    for player in row['targets']:\n",
    "        if player in target_players:\n",
    "            pass\n",
    "        else:\n",
    "            target_players.append(player)"
   ]
  },
  {
   "cell_type": "markdown",
   "metadata": {},
   "source": [
    "#### Apply sentiment score to all target players"
   ]
  },
  {
   "cell_type": "code",
   "execution_count": 1417,
   "metadata": {},
   "outputs": [],
   "source": [
    "list_of_sentiment_scores = []"
   ]
  },
  {
   "cell_type": "code",
   "execution_count": 1418,
   "metadata": {},
   "outputs": [],
   "source": [
    "for player in target_players:\n",
    "    list_of_sentiment_scores.append(sentiment_score(player))"
   ]
  },
  {
   "cell_type": "markdown",
   "metadata": {},
   "source": [
    "-------"
   ]
  },
  {
   "cell_type": "markdown",
   "metadata": {},
   "source": [
    "### Step 10 - Store sentiment scores"
   ]
  },
  {
   "cell_type": "markdown",
   "metadata": {},
   "source": [
    "#### Create a dataframe from all of the sentiment scores"
   ]
  },
  {
   "cell_type": "code",
   "execution_count": 1419,
   "metadata": {},
   "outputs": [],
   "source": [
    "sentiment_scores = pd.DataFrame(list_of_sentiment_scores)"
   ]
  },
  {
   "cell_type": "markdown",
   "metadata": {},
   "source": [
    "#### Reorder the cols "
   ]
  },
  {
   "cell_type": "code",
   "execution_count": 1420,
   "metadata": {},
   "outputs": [],
   "source": [
    "sentiment_scores = sentiment_scores[[\"Name\", \"Score\", \"Total_reviews\", \"N_positive_reviews\", \"N_negative_reviews\", \"N_neutral_reviews\"]]"
   ]
  },
  {
   "cell_type": "code",
   "execution_count": 1421,
   "metadata": {},
   "outputs": [
    {
     "data": {
      "text/html": [
       "<div>\n",
       "<style scoped>\n",
       "    .dataframe tbody tr th:only-of-type {\n",
       "        vertical-align: middle;\n",
       "    }\n",
       "\n",
       "    .dataframe tbody tr th {\n",
       "        vertical-align: top;\n",
       "    }\n",
       "\n",
       "    .dataframe thead th {\n",
       "        text-align: right;\n",
       "    }\n",
       "</style>\n",
       "<table border=\"1\" class=\"dataframe\">\n",
       "  <thead>\n",
       "    <tr style=\"text-align: right;\">\n",
       "      <th></th>\n",
       "      <th>Name</th>\n",
       "      <th>Score</th>\n",
       "      <th>Total_reviews</th>\n",
       "      <th>N_positive_reviews</th>\n",
       "      <th>N_negative_reviews</th>\n",
       "      <th>N_neutral_reviews</th>\n",
       "    </tr>\n",
       "  </thead>\n",
       "  <tbody>\n",
       "    <tr>\n",
       "      <th>0</th>\n",
       "      <td>Joshua Kimmich</td>\n",
       "      <td>1.000000</td>\n",
       "      <td>3</td>\n",
       "      <td>1</td>\n",
       "      <td>0</td>\n",
       "      <td>2</td>\n",
       "    </tr>\n",
       "    <tr>\n",
       "      <th>1</th>\n",
       "      <td>Robert Lewandowski</td>\n",
       "      <td>1.000000</td>\n",
       "      <td>3</td>\n",
       "      <td>1</td>\n",
       "      <td>0</td>\n",
       "      <td>2</td>\n",
       "    </tr>\n",
       "    <tr>\n",
       "      <th>2</th>\n",
       "      <td>Jadon Sancho</td>\n",
       "      <td>0.000000</td>\n",
       "      <td>2</td>\n",
       "      <td>0</td>\n",
       "      <td>0</td>\n",
       "      <td>2</td>\n",
       "    </tr>\n",
       "    <tr>\n",
       "      <th>3</th>\n",
       "      <td>Alphonso Davies</td>\n",
       "      <td>1.000000</td>\n",
       "      <td>2</td>\n",
       "      <td>1</td>\n",
       "      <td>0</td>\n",
       "      <td>1</td>\n",
       "    </tr>\n",
       "    <tr>\n",
       "      <th>4</th>\n",
       "      <td>Erling Haaland</td>\n",
       "      <td>1.000000</td>\n",
       "      <td>6</td>\n",
       "      <td>2</td>\n",
       "      <td>0</td>\n",
       "      <td>4</td>\n",
       "    </tr>\n",
       "    <tr>\n",
       "      <th>5</th>\n",
       "      <td>Benjamin Pavard</td>\n",
       "      <td>0.000000</td>\n",
       "      <td>2</td>\n",
       "      <td>0</td>\n",
       "      <td>0</td>\n",
       "      <td>2</td>\n",
       "    </tr>\n",
       "    <tr>\n",
       "      <th>6</th>\n",
       "      <td>Manuel Neuer</td>\n",
       "      <td>1.000000</td>\n",
       "      <td>3</td>\n",
       "      <td>2</td>\n",
       "      <td>0</td>\n",
       "      <td>1</td>\n",
       "    </tr>\n",
       "    <tr>\n",
       "      <th>7</th>\n",
       "      <td>Ivan Perisic</td>\n",
       "      <td>1.000000</td>\n",
       "      <td>3</td>\n",
       "      <td>3</td>\n",
       "      <td>0</td>\n",
       "      <td>0</td>\n",
       "    </tr>\n",
       "    <tr>\n",
       "      <th>8</th>\n",
       "      <td>Julian Brandt</td>\n",
       "      <td>1.000000</td>\n",
       "      <td>1</td>\n",
       "      <td>1</td>\n",
       "      <td>0</td>\n",
       "      <td>0</td>\n",
       "    </tr>\n",
       "    <tr>\n",
       "      <th>9</th>\n",
       "      <td>Torgan Hazard</td>\n",
       "      <td>1.000000</td>\n",
       "      <td>2</td>\n",
       "      <td>1</td>\n",
       "      <td>0</td>\n",
       "      <td>1</td>\n",
       "    </tr>\n",
       "    <tr>\n",
       "      <th>10</th>\n",
       "      <td>Pedro Neto</td>\n",
       "      <td>0.000000</td>\n",
       "      <td>1</td>\n",
       "      <td>0</td>\n",
       "      <td>0</td>\n",
       "      <td>1</td>\n",
       "    </tr>\n",
       "    <tr>\n",
       "      <th>11</th>\n",
       "      <td>Romain Saiss</td>\n",
       "      <td>0.000000</td>\n",
       "      <td>2</td>\n",
       "      <td>0</td>\n",
       "      <td>0</td>\n",
       "      <td>2</td>\n",
       "    </tr>\n",
       "    <tr>\n",
       "      <th>12</th>\n",
       "      <td>Mathieu Valbuena</td>\n",
       "      <td>0.000000</td>\n",
       "      <td>2</td>\n",
       "      <td>0</td>\n",
       "      <td>0</td>\n",
       "      <td>2</td>\n",
       "    </tr>\n",
       "    <tr>\n",
       "      <th>13</th>\n",
       "      <td>Diogo Jota</td>\n",
       "      <td>0.000000</td>\n",
       "      <td>3</td>\n",
       "      <td>0</td>\n",
       "      <td>1</td>\n",
       "      <td>2</td>\n",
       "    </tr>\n",
       "    <tr>\n",
       "      <th>14</th>\n",
       "      <td>Ruben Neves</td>\n",
       "      <td>0.000000</td>\n",
       "      <td>3</td>\n",
       "      <td>0</td>\n",
       "      <td>0</td>\n",
       "      <td>3</td>\n",
       "    </tr>\n",
       "    <tr>\n",
       "      <th>15</th>\n",
       "      <td>João Moutinho</td>\n",
       "      <td>0.000000</td>\n",
       "      <td>1</td>\n",
       "      <td>0</td>\n",
       "      <td>0</td>\n",
       "      <td>1</td>\n",
       "    </tr>\n",
       "    <tr>\n",
       "      <th>16</th>\n",
       "      <td>Odion Ighalo</td>\n",
       "      <td>0.500000</td>\n",
       "      <td>18</td>\n",
       "      <td>4</td>\n",
       "      <td>4</td>\n",
       "      <td>10</td>\n",
       "    </tr>\n",
       "    <tr>\n",
       "      <th>17</th>\n",
       "      <td>Daniel James</td>\n",
       "      <td>1.000000</td>\n",
       "      <td>7</td>\n",
       "      <td>4</td>\n",
       "      <td>0</td>\n",
       "      <td>3</td>\n",
       "    </tr>\n",
       "    <tr>\n",
       "      <th>18</th>\n",
       "      <td>Juan Mata</td>\n",
       "      <td>0.750000</td>\n",
       "      <td>10</td>\n",
       "      <td>3</td>\n",
       "      <td>1</td>\n",
       "      <td>6</td>\n",
       "    </tr>\n",
       "    <tr>\n",
       "      <th>19</th>\n",
       "      <td>Mason Greenwood</td>\n",
       "      <td>0.000000</td>\n",
       "      <td>3</td>\n",
       "      <td>0</td>\n",
       "      <td>0</td>\n",
       "      <td>3</td>\n",
       "    </tr>\n",
       "    <tr>\n",
       "      <th>20</th>\n",
       "      <td>Bruno Fernandes</td>\n",
       "      <td>0.666667</td>\n",
       "      <td>11</td>\n",
       "      <td>4</td>\n",
       "      <td>2</td>\n",
       "      <td>5</td>\n",
       "    </tr>\n",
       "    <tr>\n",
       "      <th>21</th>\n",
       "      <td>Reinhold Ranftl</td>\n",
       "      <td>1.000000</td>\n",
       "      <td>2</td>\n",
       "      <td>1</td>\n",
       "      <td>0</td>\n",
       "      <td>1</td>\n",
       "    </tr>\n",
       "    <tr>\n",
       "      <th>22</th>\n",
       "      <td>James Holland</td>\n",
       "      <td>1.000000</td>\n",
       "      <td>3</td>\n",
       "      <td>3</td>\n",
       "      <td>0</td>\n",
       "      <td>0</td>\n",
       "    </tr>\n",
       "    <tr>\n",
       "      <th>23</th>\n",
       "      <td>Sergio Romero</td>\n",
       "      <td>0.400000</td>\n",
       "      <td>9</td>\n",
       "      <td>2</td>\n",
       "      <td>3</td>\n",
       "      <td>4</td>\n",
       "    </tr>\n",
       "    <tr>\n",
       "      <th>24</th>\n",
       "      <td>Andreas Pereira</td>\n",
       "      <td>0.000000</td>\n",
       "      <td>5</td>\n",
       "      <td>0</td>\n",
       "      <td>0</td>\n",
       "      <td>5</td>\n",
       "    </tr>\n",
       "    <tr>\n",
       "      <th>25</th>\n",
       "      <td>Eric Bailly</td>\n",
       "      <td>0.000000</td>\n",
       "      <td>2</td>\n",
       "      <td>0</td>\n",
       "      <td>0</td>\n",
       "      <td>2</td>\n",
       "    </tr>\n",
       "    <tr>\n",
       "      <th>26</th>\n",
       "      <td>Peter Michorl</td>\n",
       "      <td>1.000000</td>\n",
       "      <td>1</td>\n",
       "      <td>1</td>\n",
       "      <td>0</td>\n",
       "      <td>0</td>\n",
       "    </tr>\n",
       "    <tr>\n",
       "      <th>27</th>\n",
       "      <td>Tahith Chong</td>\n",
       "      <td>0.000000</td>\n",
       "      <td>1</td>\n",
       "      <td>0</td>\n",
       "      <td>0</td>\n",
       "      <td>1</td>\n",
       "    </tr>\n",
       "    <tr>\n",
       "      <th>28</th>\n",
       "      <td>Brandon Williams</td>\n",
       "      <td>0.000000</td>\n",
       "      <td>3</td>\n",
       "      <td>0</td>\n",
       "      <td>1</td>\n",
       "      <td>2</td>\n",
       "    </tr>\n",
       "    <tr>\n",
       "      <th>29</th>\n",
       "      <td>Harry Maguire</td>\n",
       "      <td>0.000000</td>\n",
       "      <td>1</td>\n",
       "      <td>0</td>\n",
       "      <td>0</td>\n",
       "      <td>1</td>\n",
       "    </tr>\n",
       "    <tr>\n",
       "      <th>30</th>\n",
       "      <td>Luke Shaw</td>\n",
       "      <td>0.500000</td>\n",
       "      <td>10</td>\n",
       "      <td>2</td>\n",
       "      <td>2</td>\n",
       "      <td>6</td>\n",
       "    </tr>\n",
       "    <tr>\n",
       "      <th>31</th>\n",
       "      <td>Gini Wijnaldum</td>\n",
       "      <td>1.000000</td>\n",
       "      <td>6</td>\n",
       "      <td>2</td>\n",
       "      <td>0</td>\n",
       "      <td>4</td>\n",
       "    </tr>\n",
       "    <tr>\n",
       "      <th>32</th>\n",
       "      <td>Roberto Firmino</td>\n",
       "      <td>0.666667</td>\n",
       "      <td>9</td>\n",
       "      <td>2</td>\n",
       "      <td>1</td>\n",
       "      <td>6</td>\n",
       "    </tr>\n",
       "    <tr>\n",
       "      <th>33</th>\n",
       "      <td>Mo Salah</td>\n",
       "      <td>1.000000</td>\n",
       "      <td>17</td>\n",
       "      <td>6</td>\n",
       "      <td>0</td>\n",
       "      <td>11</td>\n",
       "    </tr>\n",
       "    <tr>\n",
       "      <th>34</th>\n",
       "      <td>Fernando Llorente</td>\n",
       "      <td>0.000000</td>\n",
       "      <td>6</td>\n",
       "      <td>0</td>\n",
       "      <td>1</td>\n",
       "      <td>5</td>\n",
       "    </tr>\n",
       "    <tr>\n",
       "      <th>35</th>\n",
       "      <td>Alvaro Morata</td>\n",
       "      <td>0.000000</td>\n",
       "      <td>5</td>\n",
       "      <td>0</td>\n",
       "      <td>0</td>\n",
       "      <td>5</td>\n",
       "    </tr>\n",
       "    <tr>\n",
       "      <th>36</th>\n",
       "      <td>Jordan Henderson</td>\n",
       "      <td>0.666667</td>\n",
       "      <td>15</td>\n",
       "      <td>4</td>\n",
       "      <td>2</td>\n",
       "      <td>9</td>\n",
       "    </tr>\n",
       "    <tr>\n",
       "      <th>37</th>\n",
       "      <td>Jan Oblak</td>\n",
       "      <td>1.000000</td>\n",
       "      <td>11</td>\n",
       "      <td>2</td>\n",
       "      <td>0</td>\n",
       "      <td>9</td>\n",
       "    </tr>\n",
       "    <tr>\n",
       "      <th>38</th>\n",
       "      <td>Diego Costa</td>\n",
       "      <td>0.500000</td>\n",
       "      <td>6</td>\n",
       "      <td>2</td>\n",
       "      <td>2</td>\n",
       "      <td>2</td>\n",
       "    </tr>\n",
       "    <tr>\n",
       "      <th>39</th>\n",
       "      <td>Andy Robertson</td>\n",
       "      <td>0.000000</td>\n",
       "      <td>2</td>\n",
       "      <td>0</td>\n",
       "      <td>0</td>\n",
       "      <td>2</td>\n",
       "    </tr>\n",
       "    <tr>\n",
       "      <th>40</th>\n",
       "      <td>Sadio Mane</td>\n",
       "      <td>0.500000</td>\n",
       "      <td>15</td>\n",
       "      <td>1</td>\n",
       "      <td>1</td>\n",
       "      <td>13</td>\n",
       "    </tr>\n",
       "    <tr>\n",
       "      <th>41</th>\n",
       "      <td>Adrian</td>\n",
       "      <td>0.500000</td>\n",
       "      <td>4</td>\n",
       "      <td>1</td>\n",
       "      <td>1</td>\n",
       "      <td>2</td>\n",
       "    </tr>\n",
       "    <tr>\n",
       "      <th>42</th>\n",
       "      <td>Virgil Van Dijk</td>\n",
       "      <td>1.000000</td>\n",
       "      <td>2</td>\n",
       "      <td>1</td>\n",
       "      <td>0</td>\n",
       "      <td>1</td>\n",
       "    </tr>\n",
       "    <tr>\n",
       "      <th>43</th>\n",
       "      <td>James Milner</td>\n",
       "      <td>0.666667</td>\n",
       "      <td>12</td>\n",
       "      <td>2</td>\n",
       "      <td>1</td>\n",
       "      <td>9</td>\n",
       "    </tr>\n",
       "    <tr>\n",
       "      <th>44</th>\n",
       "      <td>Ángel Correa</td>\n",
       "      <td>0.000000</td>\n",
       "      <td>1</td>\n",
       "      <td>0</td>\n",
       "      <td>0</td>\n",
       "      <td>1</td>\n",
       "    </tr>\n",
       "    <tr>\n",
       "      <th>45</th>\n",
       "      <td>Joao Felix</td>\n",
       "      <td>0.000000</td>\n",
       "      <td>2</td>\n",
       "      <td>0</td>\n",
       "      <td>0</td>\n",
       "      <td>2</td>\n",
       "    </tr>\n",
       "    <tr>\n",
       "      <th>46</th>\n",
       "      <td>Trent Alexander-Arnold</td>\n",
       "      <td>1.000000</td>\n",
       "      <td>7</td>\n",
       "      <td>3</td>\n",
       "      <td>0</td>\n",
       "      <td>4</td>\n",
       "    </tr>\n",
       "    <tr>\n",
       "      <th>47</th>\n",
       "      <td>Kieran Trippier</td>\n",
       "      <td>0.000000</td>\n",
       "      <td>1</td>\n",
       "      <td>0</td>\n",
       "      <td>0</td>\n",
       "      <td>1</td>\n",
       "    </tr>\n",
       "    <tr>\n",
       "      <th>48</th>\n",
       "      <td>Hugo Lloris</td>\n",
       "      <td>0.000000</td>\n",
       "      <td>6</td>\n",
       "      <td>0</td>\n",
       "      <td>1</td>\n",
       "      <td>5</td>\n",
       "    </tr>\n",
       "    <tr>\n",
       "      <th>49</th>\n",
       "      <td>Ryan Sessegnon</td>\n",
       "      <td>0.000000</td>\n",
       "      <td>3</td>\n",
       "      <td>0</td>\n",
       "      <td>0</td>\n",
       "      <td>3</td>\n",
       "    </tr>\n",
       "    <tr>\n",
       "      <th>50</th>\n",
       "      <td>Japhet Tanganga</td>\n",
       "      <td>0.000000</td>\n",
       "      <td>5</td>\n",
       "      <td>0</td>\n",
       "      <td>1</td>\n",
       "      <td>4</td>\n",
       "    </tr>\n",
       "    <tr>\n",
       "      <th>51</th>\n",
       "      <td>Serge Aurier</td>\n",
       "      <td>0.000000</td>\n",
       "      <td>5</td>\n",
       "      <td>0</td>\n",
       "      <td>1</td>\n",
       "      <td>4</td>\n",
       "    </tr>\n",
       "    <tr>\n",
       "      <th>52</th>\n",
       "      <td>Eric Dier</td>\n",
       "      <td>0.000000</td>\n",
       "      <td>1</td>\n",
       "      <td>0</td>\n",
       "      <td>0</td>\n",
       "      <td>1</td>\n",
       "    </tr>\n",
       "    <tr>\n",
       "      <th>53</th>\n",
       "      <td>Giovani Lo Celso</td>\n",
       "      <td>0.000000</td>\n",
       "      <td>4</td>\n",
       "      <td>0</td>\n",
       "      <td>1</td>\n",
       "      <td>3</td>\n",
       "    </tr>\n",
       "    <tr>\n",
       "      <th>54</th>\n",
       "      <td>Marcel Sabitzer</td>\n",
       "      <td>0.500000</td>\n",
       "      <td>5</td>\n",
       "      <td>1</td>\n",
       "      <td>1</td>\n",
       "      <td>3</td>\n",
       "    </tr>\n",
       "    <tr>\n",
       "      <th>55</th>\n",
       "      <td>Lucas Klostermann</td>\n",
       "      <td>0.000000</td>\n",
       "      <td>1</td>\n",
       "      <td>0</td>\n",
       "      <td>0</td>\n",
       "      <td>1</td>\n",
       "    </tr>\n",
       "    <tr>\n",
       "      <th>56</th>\n",
       "      <td>Marcel Halstenberg</td>\n",
       "      <td>0.000000</td>\n",
       "      <td>1</td>\n",
       "      <td>0</td>\n",
       "      <td>0</td>\n",
       "      <td>1</td>\n",
       "    </tr>\n",
       "    <tr>\n",
       "      <th>57</th>\n",
       "      <td>Emil Forsberg</td>\n",
       "      <td>0.000000</td>\n",
       "      <td>2</td>\n",
       "      <td>0</td>\n",
       "      <td>0</td>\n",
       "      <td>2</td>\n",
       "    </tr>\n",
       "    <tr>\n",
       "      <th>58</th>\n",
       "      <td>Gedson Fernandes</td>\n",
       "      <td>0.000000</td>\n",
       "      <td>2</td>\n",
       "      <td>0</td>\n",
       "      <td>1</td>\n",
       "      <td>1</td>\n",
       "    </tr>\n",
       "    <tr>\n",
       "      <th>59</th>\n",
       "      <td>Lucas Moura</td>\n",
       "      <td>1.000000</td>\n",
       "      <td>3</td>\n",
       "      <td>2</td>\n",
       "      <td>0</td>\n",
       "      <td>1</td>\n",
       "    </tr>\n",
       "    <tr>\n",
       "      <th>60</th>\n",
       "      <td>Dele Alli</td>\n",
       "      <td>0.000000</td>\n",
       "      <td>2</td>\n",
       "      <td>0</td>\n",
       "      <td>0</td>\n",
       "      <td>2</td>\n",
       "    </tr>\n",
       "    <tr>\n",
       "      <th>61</th>\n",
       "      <td>Timo Werner</td>\n",
       "      <td>0.000000</td>\n",
       "      <td>3</td>\n",
       "      <td>0</td>\n",
       "      <td>1</td>\n",
       "      <td>2</td>\n",
       "    </tr>\n",
       "    <tr>\n",
       "      <th>62</th>\n",
       "      <td>Amadou Haidara</td>\n",
       "      <td>0.000000</td>\n",
       "      <td>1</td>\n",
       "      <td>0</td>\n",
       "      <td>0</td>\n",
       "      <td>1</td>\n",
       "    </tr>\n",
       "    <tr>\n",
       "      <th>63</th>\n",
       "      <td>Patrik Schick</td>\n",
       "      <td>0.000000</td>\n",
       "      <td>1</td>\n",
       "      <td>0</td>\n",
       "      <td>0</td>\n",
       "      <td>1</td>\n",
       "    </tr>\n",
       "    <tr>\n",
       "      <th>64</th>\n",
       "      <td>Tyler Adams</td>\n",
       "      <td>0.000000</td>\n",
       "      <td>1</td>\n",
       "      <td>0</td>\n",
       "      <td>0</td>\n",
       "      <td>1</td>\n",
       "    </tr>\n",
       "    <tr>\n",
       "      <th>65</th>\n",
       "      <td>Nordi Mukiele</td>\n",
       "      <td>0.000000</td>\n",
       "      <td>2</td>\n",
       "      <td>0</td>\n",
       "      <td>0</td>\n",
       "      <td>2</td>\n",
       "    </tr>\n",
       "    <tr>\n",
       "      <th>66</th>\n",
       "      <td>Konrad Laimer</td>\n",
       "      <td>0.000000</td>\n",
       "      <td>1</td>\n",
       "      <td>0</td>\n",
       "      <td>0</td>\n",
       "      <td>1</td>\n",
       "    </tr>\n",
       "    <tr>\n",
       "      <th>67</th>\n",
       "      <td>Harry Winks</td>\n",
       "      <td>0.000000</td>\n",
       "      <td>1</td>\n",
       "      <td>0</td>\n",
       "      <td>0</td>\n",
       "      <td>1</td>\n",
       "    </tr>\n",
       "    <tr>\n",
       "      <th>68</th>\n",
       "      <td>Ederson</td>\n",
       "      <td>0.250000</td>\n",
       "      <td>7</td>\n",
       "      <td>1</td>\n",
       "      <td>3</td>\n",
       "      <td>3</td>\n",
       "    </tr>\n",
       "    <tr>\n",
       "      <th>69</th>\n",
       "      <td>Sergio Aguero</td>\n",
       "      <td>0.000000</td>\n",
       "      <td>3</td>\n",
       "      <td>0</td>\n",
       "      <td>0</td>\n",
       "      <td>3</td>\n",
       "    </tr>\n",
       "    <tr>\n",
       "      <th>70</th>\n",
       "      <td>Jordan Pickford</td>\n",
       "      <td>0.500000</td>\n",
       "      <td>10</td>\n",
       "      <td>2</td>\n",
       "      <td>2</td>\n",
       "      <td>6</td>\n",
       "    </tr>\n",
       "    <tr>\n",
       "      <th>71</th>\n",
       "      <td>Billy Gilmour</td>\n",
       "      <td>1.000000</td>\n",
       "      <td>9</td>\n",
       "      <td>2</td>\n",
       "      <td>0</td>\n",
       "      <td>7</td>\n",
       "    </tr>\n",
       "    <tr>\n",
       "      <th>72</th>\n",
       "      <td>Mason Mount</td>\n",
       "      <td>1.000000</td>\n",
       "      <td>7</td>\n",
       "      <td>3</td>\n",
       "      <td>0</td>\n",
       "      <td>4</td>\n",
       "    </tr>\n",
       "    <tr>\n",
       "      <th>73</th>\n",
       "      <td>Armando Broja</td>\n",
       "      <td>1.000000</td>\n",
       "      <td>1</td>\n",
       "      <td>1</td>\n",
       "      <td>0</td>\n",
       "      <td>0</td>\n",
       "    </tr>\n",
       "    <tr>\n",
       "      <th>74</th>\n",
       "      <td>Kurt Zouma</td>\n",
       "      <td>0.000000</td>\n",
       "      <td>2</td>\n",
       "      <td>0</td>\n",
       "      <td>0</td>\n",
       "      <td>2</td>\n",
       "    </tr>\n",
       "    <tr>\n",
       "      <th>75</th>\n",
       "      <td>Theo Walcott</td>\n",
       "      <td>0.000000</td>\n",
       "      <td>1</td>\n",
       "      <td>0</td>\n",
       "      <td>0</td>\n",
       "      <td>1</td>\n",
       "    </tr>\n",
       "    <tr>\n",
       "      <th>76</th>\n",
       "      <td>Marcos Alonso</td>\n",
       "      <td>0.500000</td>\n",
       "      <td>2</td>\n",
       "      <td>1</td>\n",
       "      <td>1</td>\n",
       "      <td>0</td>\n",
       "    </tr>\n",
       "    <tr>\n",
       "      <th>77</th>\n",
       "      <td>Willian</td>\n",
       "      <td>0.000000</td>\n",
       "      <td>5</td>\n",
       "      <td>0</td>\n",
       "      <td>1</td>\n",
       "      <td>4</td>\n",
       "    </tr>\n",
       "    <tr>\n",
       "      <th>78</th>\n",
       "      <td>Pedro</td>\n",
       "      <td>1.000000</td>\n",
       "      <td>7</td>\n",
       "      <td>2</td>\n",
       "      <td>0</td>\n",
       "      <td>5</td>\n",
       "    </tr>\n",
       "    <tr>\n",
       "      <th>79</th>\n",
       "      <td>Olivier Giroud</td>\n",
       "      <td>0.000000</td>\n",
       "      <td>7</td>\n",
       "      <td>0</td>\n",
       "      <td>0</td>\n",
       "      <td>7</td>\n",
       "    </tr>\n",
       "    <tr>\n",
       "      <th>80</th>\n",
       "      <td>Kepa Arrizabalaga</td>\n",
       "      <td>1.000000</td>\n",
       "      <td>3</td>\n",
       "      <td>2</td>\n",
       "      <td>0</td>\n",
       "      <td>1</td>\n",
       "    </tr>\n",
       "    <tr>\n",
       "      <th>81</th>\n",
       "      <td>Cesar Azpilicueta</td>\n",
       "      <td>1.000000</td>\n",
       "      <td>1</td>\n",
       "      <td>1</td>\n",
       "      <td>0</td>\n",
       "      <td>0</td>\n",
       "    </tr>\n",
       "    <tr>\n",
       "      <th>82</th>\n",
       "      <td>Antonio Rudiger</td>\n",
       "      <td>1.000000</td>\n",
       "      <td>1</td>\n",
       "      <td>1</td>\n",
       "      <td>0</td>\n",
       "      <td>0</td>\n",
       "    </tr>\n",
       "    <tr>\n",
       "      <th>83</th>\n",
       "      <td>Ross Barkley</td>\n",
       "      <td>0.000000</td>\n",
       "      <td>3</td>\n",
       "      <td>0</td>\n",
       "      <td>0</td>\n",
       "      <td>3</td>\n",
       "    </tr>\n",
       "    <tr>\n",
       "      <th>84</th>\n",
       "      <td>Micheal Keane</td>\n",
       "      <td>0.000000</td>\n",
       "      <td>3</td>\n",
       "      <td>0</td>\n",
       "      <td>0</td>\n",
       "      <td>3</td>\n",
       "    </tr>\n",
       "    <tr>\n",
       "      <th>85</th>\n",
       "      <td>Djibril Sidibe</td>\n",
       "      <td>0.000000</td>\n",
       "      <td>2</td>\n",
       "      <td>0</td>\n",
       "      <td>1</td>\n",
       "      <td>1</td>\n",
       "    </tr>\n",
       "    <tr>\n",
       "      <th>86</th>\n",
       "      <td>Mason Holgate</td>\n",
       "      <td>0.000000</td>\n",
       "      <td>1</td>\n",
       "      <td>0</td>\n",
       "      <td>1</td>\n",
       "      <td>0</td>\n",
       "    </tr>\n",
       "    <tr>\n",
       "      <th>87</th>\n",
       "      <td>Lucas Digne</td>\n",
       "      <td>0.000000</td>\n",
       "      <td>1</td>\n",
       "      <td>0</td>\n",
       "      <td>0</td>\n",
       "      <td>1</td>\n",
       "    </tr>\n",
       "    <tr>\n",
       "      <th>88</th>\n",
       "      <td>Bernard</td>\n",
       "      <td>0.000000</td>\n",
       "      <td>1</td>\n",
       "      <td>0</td>\n",
       "      <td>0</td>\n",
       "      <td>1</td>\n",
       "    </tr>\n",
       "    <tr>\n",
       "      <th>89</th>\n",
       "      <td>Andre Gomes</td>\n",
       "      <td>0.000000</td>\n",
       "      <td>1</td>\n",
       "      <td>0</td>\n",
       "      <td>0</td>\n",
       "      <td>1</td>\n",
       "    </tr>\n",
       "    <tr>\n",
       "      <th>90</th>\n",
       "      <td>Gylfi Sigurdsson</td>\n",
       "      <td>1.000000</td>\n",
       "      <td>1</td>\n",
       "      <td>1</td>\n",
       "      <td>0</td>\n",
       "      <td>0</td>\n",
       "    </tr>\n",
       "    <tr>\n",
       "      <th>91</th>\n",
       "      <td>Dominic Calvert-Lewin</td>\n",
       "      <td>0.000000</td>\n",
       "      <td>3</td>\n",
       "      <td>0</td>\n",
       "      <td>0</td>\n",
       "      <td>3</td>\n",
       "    </tr>\n",
       "    <tr>\n",
       "      <th>92</th>\n",
       "      <td>Richarlison</td>\n",
       "      <td>0.000000</td>\n",
       "      <td>1</td>\n",
       "      <td>0</td>\n",
       "      <td>1</td>\n",
       "      <td>0</td>\n",
       "    </tr>\n",
       "    <tr>\n",
       "      <th>93</th>\n",
       "      <td>Antony Martial</td>\n",
       "      <td>0.400000</td>\n",
       "      <td>10</td>\n",
       "      <td>2</td>\n",
       "      <td>3</td>\n",
       "      <td>5</td>\n",
       "    </tr>\n",
       "    <tr>\n",
       "      <th>94</th>\n",
       "      <td>Raheem Sterling</td>\n",
       "      <td>0.000000</td>\n",
       "      <td>1</td>\n",
       "      <td>0</td>\n",
       "      <td>0</td>\n",
       "      <td>1</td>\n",
       "    </tr>\n",
       "    <tr>\n",
       "      <th>95</th>\n",
       "      <td>Riyad Mahrez</td>\n",
       "      <td>0.000000</td>\n",
       "      <td>1</td>\n",
       "      <td>0</td>\n",
       "      <td>0</td>\n",
       "      <td>1</td>\n",
       "    </tr>\n",
       "    <tr>\n",
       "      <th>96</th>\n",
       "      <td>Phil Foden</td>\n",
       "      <td>0.000000</td>\n",
       "      <td>1</td>\n",
       "      <td>0</td>\n",
       "      <td>1</td>\n",
       "      <td>0</td>\n",
       "    </tr>\n",
       "    <tr>\n",
       "      <th>97</th>\n",
       "      <td>Fred</td>\n",
       "      <td>0.500000</td>\n",
       "      <td>2</td>\n",
       "      <td>1</td>\n",
       "      <td>1</td>\n",
       "      <td>0</td>\n",
       "    </tr>\n",
       "    <tr>\n",
       "      <th>98</th>\n",
       "      <td>Moise Kean</td>\n",
       "      <td>0.000000</td>\n",
       "      <td>1</td>\n",
       "      <td>0</td>\n",
       "      <td>0</td>\n",
       "      <td>1</td>\n",
       "    </tr>\n",
       "    <tr>\n",
       "      <th>99</th>\n",
       "      <td>Matt Doherty</td>\n",
       "      <td>0.000000</td>\n",
       "      <td>1</td>\n",
       "      <td>0</td>\n",
       "      <td>1</td>\n",
       "      <td>0</td>\n",
       "    </tr>\n",
       "    <tr>\n",
       "      <th>100</th>\n",
       "      <td>Leander Dendoncker</td>\n",
       "      <td>0.000000</td>\n",
       "      <td>2</td>\n",
       "      <td>0</td>\n",
       "      <td>0</td>\n",
       "      <td>2</td>\n",
       "    </tr>\n",
       "    <tr>\n",
       "      <th>101</th>\n",
       "      <td>Willy Boly</td>\n",
       "      <td>0.000000</td>\n",
       "      <td>1</td>\n",
       "      <td>0</td>\n",
       "      <td>0</td>\n",
       "      <td>1</td>\n",
       "    </tr>\n",
       "    <tr>\n",
       "      <th>102</th>\n",
       "      <td>Daniel Podence</td>\n",
       "      <td>0.000000</td>\n",
       "      <td>1</td>\n",
       "      <td>0</td>\n",
       "      <td>0</td>\n",
       "      <td>1</td>\n",
       "    </tr>\n",
       "    <tr>\n",
       "      <th>103</th>\n",
       "      <td>Michail Antonio</td>\n",
       "      <td>0.333333</td>\n",
       "      <td>14</td>\n",
       "      <td>2</td>\n",
       "      <td>4</td>\n",
       "      <td>8</td>\n",
       "    </tr>\n",
       "    <tr>\n",
       "      <th>104</th>\n",
       "      <td>Alexandre Lacazette</td>\n",
       "      <td>1.000000</td>\n",
       "      <td>7</td>\n",
       "      <td>1</td>\n",
       "      <td>0</td>\n",
       "      <td>6</td>\n",
       "    </tr>\n",
       "    <tr>\n",
       "      <th>105</th>\n",
       "      <td>Bukayo Saka</td>\n",
       "      <td>0.333333</td>\n",
       "      <td>8</td>\n",
       "      <td>1</td>\n",
       "      <td>2</td>\n",
       "      <td>5</td>\n",
       "    </tr>\n",
       "    <tr>\n",
       "      <th>106</th>\n",
       "      <td>Mesut Ozil</td>\n",
       "      <td>0.000000</td>\n",
       "      <td>2</td>\n",
       "      <td>0</td>\n",
       "      <td>0</td>\n",
       "      <td>2</td>\n",
       "    </tr>\n",
       "    <tr>\n",
       "      <th>107</th>\n",
       "      <td>Pablo Mari</td>\n",
       "      <td>0.000000</td>\n",
       "      <td>4</td>\n",
       "      <td>0</td>\n",
       "      <td>2</td>\n",
       "      <td>2</td>\n",
       "    </tr>\n",
       "    <tr>\n",
       "      <th>108</th>\n",
       "      <td>Hector Bellerin</td>\n",
       "      <td>0.000000</td>\n",
       "      <td>3</td>\n",
       "      <td>0</td>\n",
       "      <td>0</td>\n",
       "      <td>3</td>\n",
       "    </tr>\n",
       "    <tr>\n",
       "      <th>109</th>\n",
       "      <td>Granit Xhaka</td>\n",
       "      <td>0.000000</td>\n",
       "      <td>1</td>\n",
       "      <td>0</td>\n",
       "      <td>0</td>\n",
       "      <td>1</td>\n",
       "    </tr>\n",
       "    <tr>\n",
       "      <th>110</th>\n",
       "      <td>Eddie Nketiah</td>\n",
       "      <td>0.000000</td>\n",
       "      <td>8</td>\n",
       "      <td>0</td>\n",
       "      <td>1</td>\n",
       "      <td>7</td>\n",
       "    </tr>\n",
       "    <tr>\n",
       "      <th>111</th>\n",
       "      <td>Pierre-Emerick Aubameyang</td>\n",
       "      <td>0.000000</td>\n",
       "      <td>1</td>\n",
       "      <td>0</td>\n",
       "      <td>1</td>\n",
       "      <td>0</td>\n",
       "    </tr>\n",
       "    <tr>\n",
       "      <th>112</th>\n",
       "      <td>Sebastien Haller</td>\n",
       "      <td>0.000000</td>\n",
       "      <td>4</td>\n",
       "      <td>0</td>\n",
       "      <td>2</td>\n",
       "      <td>2</td>\n",
       "    </tr>\n",
       "    <tr>\n",
       "      <th>113</th>\n",
       "      <td>Callum Wilson</td>\n",
       "      <td>0.000000</td>\n",
       "      <td>3</td>\n",
       "      <td>0</td>\n",
       "      <td>0</td>\n",
       "      <td>3</td>\n",
       "    </tr>\n",
       "    <tr>\n",
       "      <th>114</th>\n",
       "      <td>Jarrod Bowen</td>\n",
       "      <td>0.000000</td>\n",
       "      <td>5</td>\n",
       "      <td>0</td>\n",
       "      <td>2</td>\n",
       "      <td>3</td>\n",
       "    </tr>\n",
       "    <tr>\n",
       "      <th>115</th>\n",
       "      <td>Robert Snodgrass</td>\n",
       "      <td>0.000000</td>\n",
       "      <td>1</td>\n",
       "      <td>0</td>\n",
       "      <td>0</td>\n",
       "      <td>1</td>\n",
       "    </tr>\n",
       "    <tr>\n",
       "      <th>116</th>\n",
       "      <td>Tomas Soucek</td>\n",
       "      <td>0.000000</td>\n",
       "      <td>1</td>\n",
       "      <td>0</td>\n",
       "      <td>0</td>\n",
       "      <td>1</td>\n",
       "    </tr>\n",
       "    <tr>\n",
       "      <th>117</th>\n",
       "      <td>David Luiz</td>\n",
       "      <td>0.000000</td>\n",
       "      <td>1</td>\n",
       "      <td>0</td>\n",
       "      <td>0</td>\n",
       "      <td>1</td>\n",
       "    </tr>\n",
       "    <tr>\n",
       "      <th>118</th>\n",
       "      <td>Nicolas Pepe</td>\n",
       "      <td>1.000000</td>\n",
       "      <td>5</td>\n",
       "      <td>2</td>\n",
       "      <td>0</td>\n",
       "      <td>3</td>\n",
       "    </tr>\n",
       "    <tr>\n",
       "      <th>119</th>\n",
       "      <td>Aaron Cresswell</td>\n",
       "      <td>0.000000</td>\n",
       "      <td>1</td>\n",
       "      <td>0</td>\n",
       "      <td>1</td>\n",
       "      <td>0</td>\n",
       "    </tr>\n",
       "    <tr>\n",
       "      <th>120</th>\n",
       "      <td>Sokratis Papastathopoulos</td>\n",
       "      <td>0.000000</td>\n",
       "      <td>3</td>\n",
       "      <td>0</td>\n",
       "      <td>0</td>\n",
       "      <td>3</td>\n",
       "    </tr>\n",
       "    <tr>\n",
       "      <th>121</th>\n",
       "      <td>Lukasz Fabianski</td>\n",
       "      <td>0.000000</td>\n",
       "      <td>2</td>\n",
       "      <td>0</td>\n",
       "      <td>0</td>\n",
       "      <td>2</td>\n",
       "    </tr>\n",
       "    <tr>\n",
       "      <th>122</th>\n",
       "      <td>Philip Billing</td>\n",
       "      <td>0.000000</td>\n",
       "      <td>3</td>\n",
       "      <td>0</td>\n",
       "      <td>1</td>\n",
       "      <td>2</td>\n",
       "    </tr>\n",
       "    <tr>\n",
       "      <th>123</th>\n",
       "      <td>Adam Lallana</td>\n",
       "      <td>0.000000</td>\n",
       "      <td>1</td>\n",
       "      <td>0</td>\n",
       "      <td>0</td>\n",
       "      <td>1</td>\n",
       "    </tr>\n",
       "    <tr>\n",
       "      <th>124</th>\n",
       "      <td>Dominic Solanke</td>\n",
       "      <td>0.000000</td>\n",
       "      <td>3</td>\n",
       "      <td>0</td>\n",
       "      <td>1</td>\n",
       "      <td>2</td>\n",
       "    </tr>\n",
       "    <tr>\n",
       "      <th>125</th>\n",
       "      <td>Aaron Ramsdale</td>\n",
       "      <td>1.000000</td>\n",
       "      <td>3</td>\n",
       "      <td>2</td>\n",
       "      <td>0</td>\n",
       "      <td>1</td>\n",
       "    </tr>\n",
       "    <tr>\n",
       "      <th>126</th>\n",
       "      <td>Jefferson Lerma</td>\n",
       "      <td>0.000000</td>\n",
       "      <td>1</td>\n",
       "      <td>0</td>\n",
       "      <td>0</td>\n",
       "      <td>1</td>\n",
       "    </tr>\n",
       "    <tr>\n",
       "      <th>127</th>\n",
       "      <td>Jack Simpson</td>\n",
       "      <td>0.000000</td>\n",
       "      <td>1</td>\n",
       "      <td>0</td>\n",
       "      <td>1</td>\n",
       "      <td>0</td>\n",
       "    </tr>\n",
       "    <tr>\n",
       "      <th>128</th>\n",
       "      <td>Ryan Fraser</td>\n",
       "      <td>0.000000</td>\n",
       "      <td>2</td>\n",
       "      <td>0</td>\n",
       "      <td>0</td>\n",
       "      <td>2</td>\n",
       "    </tr>\n",
       "    <tr>\n",
       "      <th>129</th>\n",
       "      <td>Alex Oxlade-Chamberlain</td>\n",
       "      <td>0.000000</td>\n",
       "      <td>1</td>\n",
       "      <td>0</td>\n",
       "      <td>0</td>\n",
       "      <td>1</td>\n",
       "    </tr>\n",
       "    <tr>\n",
       "      <th>130</th>\n",
       "      <td>Joe Gomez</td>\n",
       "      <td>0.000000</td>\n",
       "      <td>1</td>\n",
       "      <td>0</td>\n",
       "      <td>0</td>\n",
       "      <td>1</td>\n",
       "    </tr>\n",
       "    <tr>\n",
       "      <th>131</th>\n",
       "      <td>Wayne Rooney</td>\n",
       "      <td>1.000000</td>\n",
       "      <td>13</td>\n",
       "      <td>4</td>\n",
       "      <td>0</td>\n",
       "      <td>9</td>\n",
       "    </tr>\n",
       "    <tr>\n",
       "      <th>132</th>\n",
       "      <td>Kelle Roos</td>\n",
       "      <td>1.000000</td>\n",
       "      <td>5</td>\n",
       "      <td>3</td>\n",
       "      <td>0</td>\n",
       "      <td>2</td>\n",
       "    </tr>\n",
       "    <tr>\n",
       "      <th>133</th>\n",
       "      <td>Martin Waghorn</td>\n",
       "      <td>0.000000</td>\n",
       "      <td>1</td>\n",
       "      <td>0</td>\n",
       "      <td>0</td>\n",
       "      <td>1</td>\n",
       "    </tr>\n",
       "    <tr>\n",
       "      <th>134</th>\n",
       "      <td>Scott McTominay</td>\n",
       "      <td>1.000000</td>\n",
       "      <td>2</td>\n",
       "      <td>1</td>\n",
       "      <td>0</td>\n",
       "      <td>1</td>\n",
       "    </tr>\n",
       "    <tr>\n",
       "      <th>135</th>\n",
       "      <td>Jason Knight</td>\n",
       "      <td>0.000000</td>\n",
       "      <td>1</td>\n",
       "      <td>0</td>\n",
       "      <td>0</td>\n",
       "      <td>1</td>\n",
       "    </tr>\n",
       "    <tr>\n",
       "      <th>136</th>\n",
       "      <td>Jack Marriott</td>\n",
       "      <td>1.000000</td>\n",
       "      <td>2</td>\n",
       "      <td>1</td>\n",
       "      <td>0</td>\n",
       "      <td>1</td>\n",
       "    </tr>\n",
       "    <tr>\n",
       "      <th>137</th>\n",
       "      <td>Diogo Dalot</td>\n",
       "      <td>0.000000</td>\n",
       "      <td>2</td>\n",
       "      <td>0</td>\n",
       "      <td>0</td>\n",
       "      <td>2</td>\n",
       "    </tr>\n",
       "    <tr>\n",
       "      <th>138</th>\n",
       "      <td>Nemanja Matic</td>\n",
       "      <td>0.000000</td>\n",
       "      <td>1</td>\n",
       "      <td>0</td>\n",
       "      <td>0</td>\n",
       "      <td>1</td>\n",
       "    </tr>\n",
       "  </tbody>\n",
       "</table>\n",
       "</div>"
      ],
      "text/plain": [
       "                          Name     Score  Total_reviews  N_positive_reviews  \\\n",
       "0    Joshua Kimmich             1.000000  3              1                    \n",
       "1    Robert Lewandowski         1.000000  3              1                    \n",
       "2    Jadon Sancho               0.000000  2              0                    \n",
       "3    Alphonso Davies            1.000000  2              1                    \n",
       "4    Erling Haaland             1.000000  6              2                    \n",
       "5    Benjamin Pavard            0.000000  2              0                    \n",
       "6    Manuel Neuer               1.000000  3              2                    \n",
       "7    Ivan Perisic               1.000000  3              3                    \n",
       "8    Julian Brandt              1.000000  1              1                    \n",
       "9    Torgan Hazard              1.000000  2              1                    \n",
       "10   Pedro Neto                 0.000000  1              0                    \n",
       "11   Romain Saiss               0.000000  2              0                    \n",
       "12   Mathieu Valbuena           0.000000  2              0                    \n",
       "13   Diogo Jota                 0.000000  3              0                    \n",
       "14   Ruben Neves                0.000000  3              0                    \n",
       "15   João Moutinho              0.000000  1              0                    \n",
       "16   Odion Ighalo               0.500000  18             4                    \n",
       "17   Daniel James               1.000000  7              4                    \n",
       "18   Juan Mata                  0.750000  10             3                    \n",
       "19   Mason Greenwood            0.000000  3              0                    \n",
       "20   Bruno Fernandes            0.666667  11             4                    \n",
       "21   Reinhold Ranftl            1.000000  2              1                    \n",
       "22   James Holland              1.000000  3              3                    \n",
       "23   Sergio Romero              0.400000  9              2                    \n",
       "24   Andreas Pereira            0.000000  5              0                    \n",
       "25   Eric Bailly                0.000000  2              0                    \n",
       "26   Peter Michorl              1.000000  1              1                    \n",
       "27   Tahith Chong               0.000000  1              0                    \n",
       "28   Brandon Williams           0.000000  3              0                    \n",
       "29   Harry Maguire              0.000000  1              0                    \n",
       "30   Luke Shaw                  0.500000  10             2                    \n",
       "31   Gini Wijnaldum             1.000000  6              2                    \n",
       "32   Roberto Firmino            0.666667  9              2                    \n",
       "33   Mo Salah                   1.000000  17             6                    \n",
       "34   Fernando Llorente          0.000000  6              0                    \n",
       "35   Alvaro Morata              0.000000  5              0                    \n",
       "36   Jordan Henderson           0.666667  15             4                    \n",
       "37   Jan Oblak                  1.000000  11             2                    \n",
       "38   Diego Costa                0.500000  6              2                    \n",
       "39   Andy Robertson             0.000000  2              0                    \n",
       "40   Sadio Mane                 0.500000  15             1                    \n",
       "41   Adrian                     0.500000  4              1                    \n",
       "42   Virgil Van Dijk            1.000000  2              1                    \n",
       "43   James Milner               0.666667  12             2                    \n",
       "44   Ángel Correa               0.000000  1              0                    \n",
       "45   Joao Felix                 0.000000  2              0                    \n",
       "46   Trent Alexander-Arnold     1.000000  7              3                    \n",
       "47   Kieran Trippier            0.000000  1              0                    \n",
       "48   Hugo Lloris                0.000000  6              0                    \n",
       "49   Ryan Sessegnon             0.000000  3              0                    \n",
       "50   Japhet Tanganga            0.000000  5              0                    \n",
       "51   Serge Aurier               0.000000  5              0                    \n",
       "52   Eric Dier                  0.000000  1              0                    \n",
       "53   Giovani Lo Celso           0.000000  4              0                    \n",
       "54   Marcel Sabitzer            0.500000  5              1                    \n",
       "55   Lucas Klostermann          0.000000  1              0                    \n",
       "56   Marcel Halstenberg         0.000000  1              0                    \n",
       "57   Emil Forsberg              0.000000  2              0                    \n",
       "58   Gedson Fernandes           0.000000  2              0                    \n",
       "59   Lucas Moura                1.000000  3              2                    \n",
       "60   Dele Alli                  0.000000  2              0                    \n",
       "61   Timo Werner                0.000000  3              0                    \n",
       "62   Amadou Haidara             0.000000  1              0                    \n",
       "63   Patrik Schick              0.000000  1              0                    \n",
       "64   Tyler Adams                0.000000  1              0                    \n",
       "65   Nordi Mukiele              0.000000  2              0                    \n",
       "66   Konrad Laimer              0.000000  1              0                    \n",
       "67   Harry Winks                0.000000  1              0                    \n",
       "68   Ederson                    0.250000  7              1                    \n",
       "69   Sergio Aguero              0.000000  3              0                    \n",
       "70   Jordan Pickford            0.500000  10             2                    \n",
       "71   Billy Gilmour              1.000000  9              2                    \n",
       "72   Mason Mount                1.000000  7              3                    \n",
       "73   Armando Broja              1.000000  1              1                    \n",
       "74   Kurt Zouma                 0.000000  2              0                    \n",
       "75   Theo Walcott               0.000000  1              0                    \n",
       "76   Marcos Alonso              0.500000  2              1                    \n",
       "77   Willian                    0.000000  5              0                    \n",
       "78   Pedro                      1.000000  7              2                    \n",
       "79   Olivier Giroud             0.000000  7              0                    \n",
       "80   Kepa Arrizabalaga          1.000000  3              2                    \n",
       "81   Cesar Azpilicueta          1.000000  1              1                    \n",
       "82   Antonio Rudiger            1.000000  1              1                    \n",
       "83   Ross Barkley               0.000000  3              0                    \n",
       "84   Micheal Keane              0.000000  3              0                    \n",
       "85   Djibril Sidibe             0.000000  2              0                    \n",
       "86   Mason Holgate              0.000000  1              0                    \n",
       "87   Lucas Digne                0.000000  1              0                    \n",
       "88   Bernard                    0.000000  1              0                    \n",
       "89   Andre Gomes                0.000000  1              0                    \n",
       "90   Gylfi Sigurdsson           1.000000  1              1                    \n",
       "91   Dominic Calvert-Lewin      0.000000  3              0                    \n",
       "92   Richarlison                0.000000  1              0                    \n",
       "93   Antony Martial             0.400000  10             2                    \n",
       "94   Raheem Sterling            0.000000  1              0                    \n",
       "95   Riyad Mahrez               0.000000  1              0                    \n",
       "96   Phil Foden                 0.000000  1              0                    \n",
       "97   Fred                       0.500000  2              1                    \n",
       "98   Moise Kean                 0.000000  1              0                    \n",
       "99   Matt Doherty               0.000000  1              0                    \n",
       "100  Leander Dendoncker         0.000000  2              0                    \n",
       "101  Willy Boly                 0.000000  1              0                    \n",
       "102  Daniel Podence             0.000000  1              0                    \n",
       "103  Michail Antonio            0.333333  14             2                    \n",
       "104  Alexandre Lacazette        1.000000  7              1                    \n",
       "105  Bukayo Saka                0.333333  8              1                    \n",
       "106  Mesut Ozil                 0.000000  2              0                    \n",
       "107  Pablo Mari                 0.000000  4              0                    \n",
       "108  Hector Bellerin            0.000000  3              0                    \n",
       "109  Granit Xhaka               0.000000  1              0                    \n",
       "110  Eddie Nketiah              0.000000  8              0                    \n",
       "111  Pierre-Emerick Aubameyang  0.000000  1              0                    \n",
       "112  Sebastien Haller           0.000000  4              0                    \n",
       "113  Callum Wilson              0.000000  3              0                    \n",
       "114  Jarrod Bowen               0.000000  5              0                    \n",
       "115  Robert Snodgrass           0.000000  1              0                    \n",
       "116  Tomas Soucek               0.000000  1              0                    \n",
       "117  David Luiz                 0.000000  1              0                    \n",
       "118  Nicolas Pepe               1.000000  5              2                    \n",
       "119  Aaron Cresswell            0.000000  1              0                    \n",
       "120  Sokratis Papastathopoulos  0.000000  3              0                    \n",
       "121  Lukasz Fabianski           0.000000  2              0                    \n",
       "122  Philip Billing             0.000000  3              0                    \n",
       "123  Adam Lallana               0.000000  1              0                    \n",
       "124  Dominic Solanke            0.000000  3              0                    \n",
       "125  Aaron Ramsdale             1.000000  3              2                    \n",
       "126  Jefferson Lerma            0.000000  1              0                    \n",
       "127  Jack Simpson               0.000000  1              0                    \n",
       "128  Ryan Fraser                0.000000  2              0                    \n",
       "129  Alex Oxlade-Chamberlain    0.000000  1              0                    \n",
       "130  Joe Gomez                  0.000000  1              0                    \n",
       "131  Wayne Rooney               1.000000  13             4                    \n",
       "132  Kelle Roos                 1.000000  5              3                    \n",
       "133  Martin Waghorn             0.000000  1              0                    \n",
       "134  Scott McTominay            1.000000  2              1                    \n",
       "135  Jason Knight               0.000000  1              0                    \n",
       "136  Jack Marriott              1.000000  2              1                    \n",
       "137  Diogo Dalot                0.000000  2              0                    \n",
       "138  Nemanja Matic              0.000000  1              0                    \n",
       "\n",
       "     N_negative_reviews  N_neutral_reviews  \n",
       "0    0                   2                  \n",
       "1    0                   2                  \n",
       "2    0                   2                  \n",
       "3    0                   1                  \n",
       "4    0                   4                  \n",
       "5    0                   2                  \n",
       "6    0                   1                  \n",
       "7    0                   0                  \n",
       "8    0                   0                  \n",
       "9    0                   1                  \n",
       "10   0                   1                  \n",
       "11   0                   2                  \n",
       "12   0                   2                  \n",
       "13   1                   2                  \n",
       "14   0                   3                  \n",
       "15   0                   1                  \n",
       "16   4                   10                 \n",
       "17   0                   3                  \n",
       "18   1                   6                  \n",
       "19   0                   3                  \n",
       "20   2                   5                  \n",
       "21   0                   1                  \n",
       "22   0                   0                  \n",
       "23   3                   4                  \n",
       "24   0                   5                  \n",
       "25   0                   2                  \n",
       "26   0                   0                  \n",
       "27   0                   1                  \n",
       "28   1                   2                  \n",
       "29   0                   1                  \n",
       "30   2                   6                  \n",
       "31   0                   4                  \n",
       "32   1                   6                  \n",
       "33   0                   11                 \n",
       "34   1                   5                  \n",
       "35   0                   5                  \n",
       "36   2                   9                  \n",
       "37   0                   9                  \n",
       "38   2                   2                  \n",
       "39   0                   2                  \n",
       "40   1                   13                 \n",
       "41   1                   2                  \n",
       "42   0                   1                  \n",
       "43   1                   9                  \n",
       "44   0                   1                  \n",
       "45   0                   2                  \n",
       "46   0                   4                  \n",
       "47   0                   1                  \n",
       "48   1                   5                  \n",
       "49   0                   3                  \n",
       "50   1                   4                  \n",
       "51   1                   4                  \n",
       "52   0                   1                  \n",
       "53   1                   3                  \n",
       "54   1                   3                  \n",
       "55   0                   1                  \n",
       "56   0                   1                  \n",
       "57   0                   2                  \n",
       "58   1                   1                  \n",
       "59   0                   1                  \n",
       "60   0                   2                  \n",
       "61   1                   2                  \n",
       "62   0                   1                  \n",
       "63   0                   1                  \n",
       "64   0                   1                  \n",
       "65   0                   2                  \n",
       "66   0                   1                  \n",
       "67   0                   1                  \n",
       "68   3                   3                  \n",
       "69   0                   3                  \n",
       "70   2                   6                  \n",
       "71   0                   7                  \n",
       "72   0                   4                  \n",
       "73   0                   0                  \n",
       "74   0                   2                  \n",
       "75   0                   1                  \n",
       "76   1                   0                  \n",
       "77   1                   4                  \n",
       "78   0                   5                  \n",
       "79   0                   7                  \n",
       "80   0                   1                  \n",
       "81   0                   0                  \n",
       "82   0                   0                  \n",
       "83   0                   3                  \n",
       "84   0                   3                  \n",
       "85   1                   1                  \n",
       "86   1                   0                  \n",
       "87   0                   1                  \n",
       "88   0                   1                  \n",
       "89   0                   1                  \n",
       "90   0                   0                  \n",
       "91   0                   3                  \n",
       "92   1                   0                  \n",
       "93   3                   5                  \n",
       "94   0                   1                  \n",
       "95   0                   1                  \n",
       "96   1                   0                  \n",
       "97   1                   0                  \n",
       "98   0                   1                  \n",
       "99   1                   0                  \n",
       "100  0                   2                  \n",
       "101  0                   1                  \n",
       "102  0                   1                  \n",
       "103  4                   8                  \n",
       "104  0                   6                  \n",
       "105  2                   5                  \n",
       "106  0                   2                  \n",
       "107  2                   2                  \n",
       "108  0                   3                  \n",
       "109  0                   1                  \n",
       "110  1                   7                  \n",
       "111  1                   0                  \n",
       "112  2                   2                  \n",
       "113  0                   3                  \n",
       "114  2                   3                  \n",
       "115  0                   1                  \n",
       "116  0                   1                  \n",
       "117  0                   1                  \n",
       "118  0                   3                  \n",
       "119  1                   0                  \n",
       "120  0                   3                  \n",
       "121  0                   2                  \n",
       "122  1                   2                  \n",
       "123  0                   1                  \n",
       "124  1                   2                  \n",
       "125  0                   1                  \n",
       "126  0                   1                  \n",
       "127  1                   0                  \n",
       "128  0                   2                  \n",
       "129  0                   1                  \n",
       "130  0                   1                  \n",
       "131  0                   9                  \n",
       "132  0                   2                  \n",
       "133  0                   1                  \n",
       "134  0                   1                  \n",
       "135  0                   1                  \n",
       "136  0                   1                  \n",
       "137  0                   2                  \n",
       "138  0                   1                  "
      ]
     },
     "execution_count": 1421,
     "metadata": {},
     "output_type": "execute_result"
    }
   ],
   "source": [
    "sentiment_scores"
   ]
  },
  {
   "cell_type": "markdown",
   "metadata": {},
   "source": [
    "----"
   ]
  },
  {
   "cell_type": "markdown",
   "metadata": {},
   "source": [
    "### Step 11 - Allow User to search for player"
   ]
  },
  {
   "cell_type": "markdown",
   "metadata": {},
   "source": [
    "#### Function to allow df search"
   ]
  },
  {
   "cell_type": "code",
   "execution_count": 1425,
   "metadata": {},
   "outputs": [],
   "source": [
    "def search(player_name):\n",
    "    \n",
    "    counter = len(sentiment_scores)\n",
    "    \n",
    "    for index, row in sentiment_scores.iterrows():\n",
    "        if player_name in row[\"Name\"]:\n",
    "            return pd.DataFrame(row)\n",
    "        elif counter == 1:\n",
    "            return \"Sorry ... There is no player in the dataset that matches your search\"\n",
    "        counter -= 1"
   ]
  },
  {
   "cell_type": "markdown",
   "metadata": {},
   "source": [
    "#### Search for any player in the dataset using the 'search' function\n",
    "> `search(\"Mo Salah\")`"
   ]
  },
  {
   "cell_type": "code",
   "execution_count": 1426,
   "metadata": {},
   "outputs": [
    {
     "data": {
      "text/html": [
       "<div>\n",
       "<style scoped>\n",
       "    .dataframe tbody tr th:only-of-type {\n",
       "        vertical-align: middle;\n",
       "    }\n",
       "\n",
       "    .dataframe tbody tr th {\n",
       "        vertical-align: top;\n",
       "    }\n",
       "\n",
       "    .dataframe thead th {\n",
       "        text-align: right;\n",
       "    }\n",
       "</style>\n",
       "<table border=\"1\" class=\"dataframe\">\n",
       "  <thead>\n",
       "    <tr style=\"text-align: right;\">\n",
       "      <th></th>\n",
       "      <th>71</th>\n",
       "    </tr>\n",
       "  </thead>\n",
       "  <tbody>\n",
       "    <tr>\n",
       "      <th>Name</th>\n",
       "      <td>Billy Gilmour</td>\n",
       "    </tr>\n",
       "    <tr>\n",
       "      <th>Score</th>\n",
       "      <td>1</td>\n",
       "    </tr>\n",
       "    <tr>\n",
       "      <th>Total_reviews</th>\n",
       "      <td>9</td>\n",
       "    </tr>\n",
       "    <tr>\n",
       "      <th>N_positive_reviews</th>\n",
       "      <td>2</td>\n",
       "    </tr>\n",
       "    <tr>\n",
       "      <th>N_negative_reviews</th>\n",
       "      <td>0</td>\n",
       "    </tr>\n",
       "    <tr>\n",
       "      <th>N_neutral_reviews</th>\n",
       "      <td>7</td>\n",
       "    </tr>\n",
       "  </tbody>\n",
       "</table>\n",
       "</div>"
      ],
      "text/plain": [
       "                               71\n",
       "Name                Billy Gilmour\n",
       "Score               1            \n",
       "Total_reviews       9            \n",
       "N_positive_reviews  2            \n",
       "N_negative_reviews  0            \n",
       "N_neutral_reviews   7            "
      ]
     },
     "execution_count": 1426,
     "metadata": {},
     "output_type": "execute_result"
    }
   ],
   "source": [
    "search(\"Billy\")"
   ]
  },
  {
   "cell_type": "markdown",
   "metadata": {},
   "source": [
    "-----"
   ]
  },
  {
   "cell_type": "markdown",
   "metadata": {},
   "source": [
    "### Evaluation"
   ]
  },
  {
   "cell_type": "markdown",
   "metadata": {},
   "source": [
    "> ##### Processes to improve:\n",
    "- Information extraction: A better way to identify players as the subject of sentences \n",
    "- Sentiment analysis: More accurate results\n",
    "- Tying together information extraction and sentiment analysis to provide more precise results"
   ]
  }
 ],
 "metadata": {
  "kernelspec": {
   "display_name": "Python 3",
   "language": "python",
   "name": "python3"
  },
  "language_info": {
   "codemirror_mode": {
    "name": "ipython",
    "version": 3
   },
   "file_extension": ".py",
   "mimetype": "text/x-python",
   "name": "python",
   "nbconvert_exporter": "python",
   "pygments_lexer": "ipython3",
   "version": "3.7.3"
  }
 },
 "nbformat": 4,
 "nbformat_minor": 2
}
